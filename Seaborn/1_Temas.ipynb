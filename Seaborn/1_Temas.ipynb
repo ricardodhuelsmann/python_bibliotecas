{
  "nbformat": 4,
  "nbformat_minor": 0,
  "metadata": {
    "colab": {
      "name": "1 - Temas.ipynb",
      "provenance": [],
      "collapsed_sections": [],
      "authorship_tag": "ABX9TyMWcssYa+rSe03it8MnvdIZ",
      "include_colab_link": true
    },
    "kernelspec": {
      "name": "python3",
      "display_name": "Python 3"
    },
    "language_info": {
      "name": "python"
    }
  },
  "cells": [
    {
      "cell_type": "markdown",
      "metadata": {
        "id": "view-in-github",
        "colab_type": "text"
      },
      "source": [
        "<a href=\"https://colab.research.google.com/github/ricardodhuelsmann/python_bibliotecas/blob/main/Seaborn/1_Temas.ipynb\" target=\"_parent\"><img src=\"https://colab.research.google.com/assets/colab-badge.svg\" alt=\"Open In Colab\"/></a>"
      ]
    },
    {
      "cell_type": "code",
      "execution_count": 118,
      "metadata": {
        "id": "nVLkRES5FQJS"
      },
      "outputs": [],
      "source": [
        "import seaborn as sns\n",
        "#sns.reset_orig() Reseta as configurações originais de tema"
      ]
    },
    {
      "cell_type": "markdown",
      "source": [
        "#seaborn.***set_theme***\n",
        "###Defina os aspectos do tema visual para todos os gráficos de *matplotlib* e *seaborn*."
      ],
      "metadata": {
        "id": "b8BsieFJFho7"
      }
    },
    {
      "cell_type": "code",
      "source": [
        "#Por padrão, o seaborn usa modelos do matplotlib\n",
        "sns.barplot(x=[\"A\", \"B\", \"C\", \"D\", \"E\"], y=[1, 2, 3, 2, 1])"
      ],
      "metadata": {
        "colab": {
          "base_uri": "https://localhost:8080/",
          "height": 282
        },
        "id": "BCdzlhx0FxYJ",
        "outputId": "848c5b16-1549-4c25-f1ce-a377854986f4"
      },
      "execution_count": 119,
      "outputs": [
        {
          "output_type": "execute_result",
          "data": {
            "text/plain": [
              "<matplotlib.axes._subplots.AxesSubplot at 0x7fbb826a2a90>"
            ]
          },
          "metadata": {},
          "execution_count": 119
        },
        {
          "output_type": "display_data",
          "data": {
            "image/png": "[encoded data removed]",
            "text/plain": [
              "<Figure size 432x288 with 1 Axes>"
            ]
          },
          "metadata": {
            "needs_background": "light"
          }
        }
      ]
    },
    {
      "cell_type": "code",
      "source": [
        "#Para definir os padrões do seaborn, usa-se o 'set_theme' \n",
        "sns.set_theme()\n",
        "sns.barplot(x=[\"A\", \"B\", \"C\", \"D\", \"E\"], y=[1, 2, 3, 2, 1])"
      ],
      "metadata": {
        "colab": {
          "base_uri": "https://localhost:8080/",
          "height": 286
        },
        "id": "eUWfWwuYF-5M",
        "outputId": "2d15be46-48a9-4115-fcbe-433604d2b339"
      },
      "execution_count": 120,
      "outputs": [
        {
          "output_type": "execute_result",
          "data": {
            "text/plain": [
              "<matplotlib.axes._subplots.AxesSubplot at 0x7fbb81e30f10>"
            ]
          },
          "metadata": {},
          "execution_count": 120
        },
        {
          "output_type": "display_data",
          "data": {
            "image/png": "[encoded data removed]",
            "text/plain": [
              "<Figure size 432x288 with 1 Axes>"
            ]
          },
          "metadata": {}
        }
      ]
    },
    {
      "cell_type": "code",
      "source": [
        "# Importante ressaltar que ela vai mudar o padrão do matplotlib também\n",
        "import matplotlib.pyplot as plt\n",
        "plt.bar([\"A\", \"B\", \"C\", \"D\", \"E\"], [1, 2, 3, 2, 1])"
      ],
      "metadata": {
        "colab": {
          "base_uri": "https://localhost:8080/",
          "height": 286
        },
        "id": "k_AFlA_PGYg6",
        "outputId": "9cd657eb-daa7-4314-e670-19d31f6966ba"
      },
      "execution_count": 121,
      "outputs": [
        {
          "output_type": "execute_result",
          "data": {
            "text/plain": [
              "<BarContainer object of 5 artists>"
            ]
          },
          "metadata": {},
          "execution_count": 121
        },
        {
          "output_type": "display_data",
          "data": {
            "image/png": "[encoded data removed]",
            "text/plain": [
              "<Figure size 432x288 with 1 Axes>"
            ]
          },
          "metadata": {}
        }
      ]
    },
    {
      "cell_type": "code",
      "source": [
        "#O tema do seaborn é decomposto em vários conjuntos distintos de parâmetros que você pode controlar de forma independente:\n",
        "sns.set_theme(style=\"whitegrid\", palette=\"pastel\")\n",
        "sns.barplot(x=[\"A\", \"B\", \"C\", \"D\", \"E\"], y=[1, 2, 3, 2, 1])"
      ],
      "metadata": {
        "colab": {
          "base_uri": "https://localhost:8080/",
          "height": 286
        },
        "id": "a4FIPK9kGi65",
        "outputId": "0a96b81a-ef16-47d6-aea7-a9ce3b0fae6c"
      },
      "execution_count": 122,
      "outputs": [
        {
          "output_type": "execute_result",
          "data": {
            "text/plain": [
              "<matplotlib.axes._subplots.AxesSubplot at 0x7fbb82430090>"
            ]
          },
          "metadata": {},
          "execution_count": 122
        },
        {
          "output_type": "display_data",
          "data": {
            "image/png": "[encoded data removed]",
            "text/plain": [
              "<Figure size 432x288 with 1 Axes>"
            ]
          },
          "metadata": {}
        }
      ]
    },
    {
      "cell_type": "code",
      "source": [
        "#Passe 'None' para preservar os valores atuais para um determinado conjunto de parâmetros:\n",
        "sns.set_theme(style=\"white\", palette=None)\n",
        "sns.barplot(x=[\"A\", \"B\", \"C\", \"D\", \"E\"], y=[1, 2, 3, 2, 1])"
      ],
      "metadata": {
        "colab": {
          "base_uri": "https://localhost:8080/",
          "height": 286
        },
        "id": "5mhNVAmWHi_A",
        "outputId": "7b4e3574-8aa6-4eb5-d367-c54e0bc3f344"
      },
      "execution_count": 123,
      "outputs": [
        {
          "output_type": "execute_result",
          "data": {
            "text/plain": [
              "<matplotlib.axes._subplots.AxesSubplot at 0x7fbb824e5690>"
            ]
          },
          "metadata": {},
          "execution_count": 123
        },
        {
          "output_type": "display_data",
          "data": {
            "image/png": "[encoded data removed]",
            "text/plain": [
              "<Figure size 432x288 with 1 Axes>"
            ]
          },
          "metadata": {}
        }
      ]
    },
    {
      "cell_type": "code",
      "source": [
        "#Você também pode substituir quaisquer parâmetros seaborn ou definir parâmetros adicionais que fazem parte do sistema matplotlib rc, mas não estão incluídos nos temas seaborn:\n",
        "custom_params = {\"axes.spines.right\": False, \"axes.spines.top\": False}\n",
        "sns.set_theme(style=\"ticks\", rc=custom_params)\n",
        "sns.barplot(x=[\"A\", \"B\", \"C\", \"D\", \"E\"], y=[1, 2, 3, 2, 1])"
      ],
      "metadata": {
        "colab": {
          "base_uri": "https://localhost:8080/",
          "height": 286
        },
        "id": "xEinZ6p-HuJW",
        "outputId": "831fce9f-0ad4-4906-dfa6-40249d6a72f0"
      },
      "execution_count": 124,
      "outputs": [
        {
          "output_type": "execute_result",
          "data": {
            "text/plain": [
              "<matplotlib.axes._subplots.AxesSubplot at 0x7fbb81f92190>"
            ]
          },
          "metadata": {},
          "execution_count": 124
        },
        {
          "output_type": "display_data",
          "data": {
            "image/png": "[encoded data removed]",
            "text/plain": [
              "<Figure size 432x288 with 1 Axes>"
            ]
          },
          "metadata": {}
        }
      ]
    },
    {
      "cell_type": "markdown",
      "source": [
        "#seaborn.***plotting_context***\n",
        "###Obtenha os parâmetros que controlam a escala dos elementos do gráfico."
      ],
      "metadata": {
        "id": "D1Gknw3LIO9N"
      }
    },
    {
      "cell_type": "code",
      "source": [
        "#Chamar sem argumentos retornará os padrões atuais para os parâmetros escalados:\n",
        "sns.plotting_context()"
      ],
      "metadata": {
        "colab": {
          "base_uri": "https://localhost:8080/"
        },
        "id": "31Bv6LPZIdj6",
        "outputId": "665782af-f997-4853-d623-1382f080efe1"
      },
      "execution_count": 125,
      "outputs": [
        {
          "output_type": "execute_result",
          "data": {
            "text/plain": [
              "{'axes.labelsize': 12.0,\n",
              " 'axes.linewidth': 1.25,\n",
              " 'axes.titlesize': 12.0,\n",
              " 'font.size': 12.0,\n",
              " 'grid.linewidth': 1.0,\n",
              " 'legend.fontsize': 11.0,\n",
              " 'legend.title_fontsize': 12.0,\n",
              " 'lines.linewidth': 1.5,\n",
              " 'lines.markersize': 6.0,\n",
              " 'patch.linewidth': 1.0,\n",
              " 'xtick.labelsize': 11.0,\n",
              " 'xtick.major.size': 6.0,\n",
              " 'xtick.major.width': 1.25,\n",
              " 'xtick.minor.size': 4.0,\n",
              " 'xtick.minor.width': 1.0,\n",
              " 'ytick.labelsize': 11.0,\n",
              " 'ytick.major.size': 6.0,\n",
              " 'ytick.major.width': 1.25,\n",
              " 'ytick.minor.size': 4.0,\n",
              " 'ytick.minor.width': 1.0}"
            ]
          },
          "metadata": {},
          "execution_count": 125
        }
      ]
    },
    {
      "cell_type": "code",
      "source": [
        "#Chamar com o nome de um estilo predefinido mostrará esses valores:\n",
        "sns.plotting_context(\"talk\")"
      ],
      "metadata": {
        "colab": {
          "base_uri": "https://localhost:8080/"
        },
        "id": "37RAohC3Inl3",
        "outputId": "d148c508-cd43-4a9b-98c8-b8961cbf2e9d"
      },
      "execution_count": 126,
      "outputs": [
        {
          "output_type": "execute_result",
          "data": {
            "text/plain": [
              "{'axes.labelsize': 18.0,\n",
              " 'axes.linewidth': 1.875,\n",
              " 'axes.titlesize': 18.0,\n",
              " 'font.size': 18.0,\n",
              " 'grid.linewidth': 1.5,\n",
              " 'legend.fontsize': 16.5,\n",
              " 'legend.title_fontsize': 18.0,\n",
              " 'lines.linewidth': 2.25,\n",
              " 'lines.markersize': 9.0,\n",
              " 'patch.linewidth': 1.5,\n",
              " 'xtick.labelsize': 16.5,\n",
              " 'xtick.major.size': 9.0,\n",
              " 'xtick.major.width': 1.875,\n",
              " 'xtick.minor.size': 6.0,\n",
              " 'xtick.minor.width': 1.5,\n",
              " 'ytick.labelsize': 16.5,\n",
              " 'ytick.major.size': 9.0,\n",
              " 'ytick.major.width': 1.875,\n",
              " 'ytick.minor.size': 6.0,\n",
              " 'ytick.minor.width': 1.5}"
            ]
          },
          "metadata": {},
          "execution_count": 126
        }
      ]
    },
    {
      "cell_type": "code",
      "source": [
        "#Use a função como um gerenciador de contexto para alterar temporariamente os valores dos parâmetros\n",
        "with sns.plotting_context(\"talk\"):\n",
        "    sns.lineplot(x=[\"A\", \"B\", \"C\", \"D\", \"E\"], y=[1, 2, 3, 2, 1])"
      ],
      "metadata": {
        "colab": {
          "base_uri": "https://localhost:8080/",
          "height": 279
        },
        "id": "xTxVhuOAIu7V",
        "outputId": "57f12b0e-a8b8-44ab-fa8c-75e1b1a0b45d"
      },
      "execution_count": 127,
      "outputs": [
        {
          "output_type": "display_data",
          "data": {
            "image/png": "[encoded data removed]",
            "text/plain": [
              "<Figure size 432x288 with 1 Axes>"
            ]
          },
          "metadata": {}
        }
      ]
    },
    {
      "cell_type": "code",
      "source": [
        "#Altere as propriedades que desejar\n",
        "with sns.plotting_context(\"talk\", rc={\"lines.linewidth\": 8, 'xtick.labelsize': 25}):\n",
        "    sns.lineplot(x=[\"A\", \"B\", \"C\", \"D\", \"E\"], y=[1, 2, 3, 2, 1])"
      ],
      "metadata": {
        "colab": {
          "base_uri": "https://localhost:8080/",
          "height": 285
        },
        "id": "klILVYMiJZh1",
        "outputId": "70372eb5-ba20-4d4f-e892-059f22c23fa1"
      },
      "execution_count": 128,
      "outputs": [
        {
          "output_type": "display_data",
          "data": {
            "image/png": "[encoded data removed]",
            "text/plain": [
              "<Figure size 432x288 with 1 Axes>"
            ]
          },
          "metadata": {}
        }
      ]
    },
    {
      "cell_type": "markdown",
      "source": [
        "#seaborn.***axes_style***\n",
        "###Obtenha os parâmetros que controlam o estilo geral dos gráficos."
      ],
      "metadata": {
        "id": "875pDJJdKG1t"
      }
    },
    {
      "cell_type": "code",
      "source": [
        "#Chamar sem argumentos retornará os padrões atuais para os parâmetros de estilo:\n",
        "sns.axes_style()"
      ],
      "metadata": {
        "colab": {
          "base_uri": "https://localhost:8080/"
        },
        "id": "bYNtns-1KO0P",
        "outputId": "3d7701b1-0e35-4ba4-e7a6-3fbcd64e8e8e"
      },
      "execution_count": 129,
      "outputs": [
        {
          "output_type": "execute_result",
          "data": {
            "text/plain": [
              "{'axes.axisbelow': True,\n",
              " 'axes.edgecolor': '.15',\n",
              " 'axes.facecolor': 'white',\n",
              " 'axes.grid': False,\n",
              " 'axes.labelcolor': '.15',\n",
              " 'axes.spines.bottom': True,\n",
              " 'axes.spines.left': True,\n",
              " 'axes.spines.right': False,\n",
              " 'axes.spines.top': False,\n",
              " 'figure.facecolor': 'white',\n",
              " 'font.family': ['sans-serif'],\n",
              " 'font.sans-serif': ['Arial',\n",
              "  'DejaVu Sans',\n",
              "  'Liberation Sans',\n",
              "  'Bitstream Vera Sans',\n",
              "  'sans-serif'],\n",
              " 'grid.color': '.8',\n",
              " 'grid.linestyle': '-',\n",
              " 'image.cmap': 'rocket',\n",
              " 'lines.solid_capstyle': 'round',\n",
              " 'patch.edgecolor': 'w',\n",
              " 'patch.force_edgecolor': True,\n",
              " 'text.color': '.15',\n",
              " 'xtick.bottom': True,\n",
              " 'xtick.color': '.15',\n",
              " 'xtick.direction': 'out',\n",
              " 'xtick.top': False,\n",
              " 'ytick.color': '.15',\n",
              " 'ytick.direction': 'out',\n",
              " 'ytick.left': True,\n",
              " 'ytick.right': False}"
            ]
          },
          "metadata": {},
          "execution_count": 129
        }
      ]
    },
    {
      "cell_type": "code",
      "source": [
        "#Chamar com o nome de um estilo predefinido mostrará esses valores de parâmetro:\n",
        "sns.axes_style(\"darkgrid\")"
      ],
      "metadata": {
        "colab": {
          "base_uri": "https://localhost:8080/"
        },
        "id": "FHdEO4zMKWLC",
        "outputId": "7fcd2525-1ae9-4b55-9bfd-fa552d29a4bc"
      },
      "execution_count": 130,
      "outputs": [
        {
          "output_type": "execute_result",
          "data": {
            "text/plain": [
              "{'axes.axisbelow': True,\n",
              " 'axes.edgecolor': 'white',\n",
              " 'axes.facecolor': '#EAEAF2',\n",
              " 'axes.grid': True,\n",
              " 'axes.labelcolor': '.15',\n",
              " 'axes.spines.bottom': True,\n",
              " 'axes.spines.left': True,\n",
              " 'axes.spines.right': True,\n",
              " 'axes.spines.top': True,\n",
              " 'figure.facecolor': 'white',\n",
              " 'font.family': ['sans-serif'],\n",
              " 'font.sans-serif': ['Arial',\n",
              "  'DejaVu Sans',\n",
              "  'Liberation Sans',\n",
              "  'Bitstream Vera Sans',\n",
              "  'sans-serif'],\n",
              " 'grid.color': 'white',\n",
              " 'grid.linestyle': '-',\n",
              " 'image.cmap': 'rocket',\n",
              " 'lines.solid_capstyle': 'round',\n",
              " 'patch.edgecolor': 'w',\n",
              " 'patch.force_edgecolor': True,\n",
              " 'text.color': '.15',\n",
              " 'xtick.bottom': False,\n",
              " 'xtick.color': '.15',\n",
              " 'xtick.direction': 'out',\n",
              " 'xtick.top': False,\n",
              " 'ytick.color': '.15',\n",
              " 'ytick.direction': 'out',\n",
              " 'ytick.left': False,\n",
              " 'ytick.right': False}"
            ]
          },
          "metadata": {},
          "execution_count": 130
        }
      ]
    },
    {
      "cell_type": "code",
      "source": [
        "#Use a função como um gerenciador de contexto para alterar temporariamente o estilo de seus gráficos:\n",
        "with sns.axes_style(\"whitegrid\"):\n",
        "    sns.barplot(x=[\"A\", \"B\", \"C\", \"D\", \"E\"], y=[1, 2, 3, 2, 1])"
      ],
      "metadata": {
        "colab": {
          "base_uri": "https://localhost:8080/",
          "height": 268
        },
        "id": "e7cKFC1NKbrj",
        "outputId": "87722a60-513f-4f12-dc62-be1622583436"
      },
      "execution_count": 131,
      "outputs": [
        {
          "output_type": "display_data",
          "data": {
            "image/png": "[encoded data removed]",
            "text/plain": [
              "<Figure size 432x288 with 1 Axes>"
            ]
          },
          "metadata": {}
        }
      ]
    },
    {
      "cell_type": "code",
      "source": [
        "#Altere as propriedades que desejar\n",
        "with sns.axes_style(\"whitegrid\", rc={'axes.grid': False, 'axes.edgecolor': 'black', 'axes.spines.right': False, 'axes.spines.top': False}):\n",
        "    sns.barplot(x=[\"A\", \"B\", \"C\", \"D\", \"E\"], y=[1, 2, 3, 2, 1])"
      ],
      "metadata": {
        "colab": {
          "base_uri": "https://localhost:8080/",
          "height": 268
        },
        "id": "CZmSIDAbKimU",
        "outputId": "2241b09b-ba36-4f1c-8541-dfad284c52cf"
      },
      "execution_count": 132,
      "outputs": [
        {
          "output_type": "display_data",
          "data": {
            "image/png": "[encoded data removed]",
            "text/plain": [
              "<Figure size 432x288 with 1 Axes>"
            ]
          },
          "metadata": {}
        }
      ]
    },
    {
      "cell_type": "markdown",
      "source": [
        "#seaborn.***color_palette***\n",
        "###Retorna uma lista de cores ou mapa de cores contínuo definindo uma paleta."
      ],
      "metadata": {
        "id": "H93Im_ueLfj0"
      }
    },
    {
      "cell_type": "code",
      "source": [
        "#Chamar sem argumentos retorna todas as cores do ciclo de cores padrão atual:\n",
        "sns.color_palette()"
      ],
      "metadata": {
        "colab": {
          "base_uri": "https://localhost:8080/",
          "height": 77
        },
        "id": "RWbeL1caLfTm",
        "outputId": "0a81e2e8-e988-4d10-b740-c8adbed25ad4"
      },
      "execution_count": 133,
      "outputs": [
        {
          "output_type": "execute_result",
          "data": {
            "text/html": [
              "<svg  width=\"550\" height=\"55\"><rect x=\"0\" y=\"0\" width=\"55\" height=\"55\" style=\"fill:#4c72b0;stroke-width:2;stroke:rgb(255,255,255)\"/><rect x=\"55\" y=\"0\" width=\"55\" height=\"55\" style=\"fill:#dd8452;stroke-width:2;stroke:rgb(255,255,255)\"/><rect x=\"110\" y=\"0\" width=\"55\" height=\"55\" style=\"fill:#55a868;stroke-width:2;stroke:rgb(255,255,255)\"/><rect x=\"165\" y=\"0\" width=\"55\" height=\"55\" style=\"fill:#c44e52;stroke-width:2;stroke:rgb(255,255,255)\"/><rect x=\"220\" y=\"0\" width=\"55\" height=\"55\" style=\"fill:#8172b3;stroke-width:2;stroke:rgb(255,255,255)\"/><rect x=\"275\" y=\"0\" width=\"55\" height=\"55\" style=\"fill:#937860;stroke-width:2;stroke:rgb(255,255,255)\"/><rect x=\"330\" y=\"0\" width=\"55\" height=\"55\" style=\"fill:#da8bc3;stroke-width:2;stroke:rgb(255,255,255)\"/><rect x=\"385\" y=\"0\" width=\"55\" height=\"55\" style=\"fill:#8c8c8c;stroke-width:2;stroke:rgb(255,255,255)\"/><rect x=\"440\" y=\"0\" width=\"55\" height=\"55\" style=\"fill:#ccb974;stroke-width:2;stroke:rgb(255,255,255)\"/><rect x=\"495\" y=\"0\" width=\"55\" height=\"55\" style=\"fill:#64b5cd;stroke-width:2;stroke:rgb(255,255,255)\"/></svg>"
            ],
            "text/plain": [
              "[(0.2980392156862745, 0.4470588235294118, 0.6901960784313725),\n",
              " (0.8666666666666667, 0.5176470588235295, 0.3215686274509804),\n",
              " (0.3333333333333333, 0.6588235294117647, 0.40784313725490196),\n",
              " (0.7686274509803922, 0.3058823529411765, 0.3215686274509804),\n",
              " (0.5058823529411764, 0.4470588235294118, 0.7019607843137254),\n",
              " (0.5764705882352941, 0.47058823529411764, 0.3764705882352941),\n",
              " (0.8549019607843137, 0.5450980392156862, 0.7647058823529411),\n",
              " (0.5490196078431373, 0.5490196078431373, 0.5490196078431373),\n",
              " (0.8, 0.7254901960784313, 0.4549019607843137),\n",
              " (0.39215686274509803, 0.7098039215686275, 0.803921568627451)]"
            ]
          },
          "metadata": {},
          "execution_count": 133
        }
      ]
    },
    {
      "cell_type": "code",
      "source": [
        "#Outras variantes na paleta de cores categóricas do mar podem ser referenciadas pelo nome:\n",
        "sns.color_palette(\"pastel\")"
      ],
      "metadata": {
        "colab": {
          "base_uri": "https://localhost:8080/",
          "height": 77
        },
        "id": "LxJoo2saL9b3",
        "outputId": "7eff6413-937c-4ae1-903b-2e30de0a7e87"
      },
      "execution_count": 134,
      "outputs": [
        {
          "output_type": "execute_result",
          "data": {
            "text/html": [
              "<svg  width=\"550\" height=\"55\"><rect x=\"0\" y=\"0\" width=\"55\" height=\"55\" style=\"fill:#a1c9f4;stroke-width:2;stroke:rgb(255,255,255)\"/><rect x=\"55\" y=\"0\" width=\"55\" height=\"55\" style=\"fill:#ffb482;stroke-width:2;stroke:rgb(255,255,255)\"/><rect x=\"110\" y=\"0\" width=\"55\" height=\"55\" style=\"fill:#8de5a1;stroke-width:2;stroke:rgb(255,255,255)\"/><rect x=\"165\" y=\"0\" width=\"55\" height=\"55\" style=\"fill:#ff9f9b;stroke-width:2;stroke:rgb(255,255,255)\"/><rect x=\"220\" y=\"0\" width=\"55\" height=\"55\" style=\"fill:#d0bbff;stroke-width:2;stroke:rgb(255,255,255)\"/><rect x=\"275\" y=\"0\" width=\"55\" height=\"55\" style=\"fill:#debb9b;stroke-width:2;stroke:rgb(255,255,255)\"/><rect x=\"330\" y=\"0\" width=\"55\" height=\"55\" style=\"fill:#fab0e4;stroke-width:2;stroke:rgb(255,255,255)\"/><rect x=\"385\" y=\"0\" width=\"55\" height=\"55\" style=\"fill:#cfcfcf;stroke-width:2;stroke:rgb(255,255,255)\"/><rect x=\"440\" y=\"0\" width=\"55\" height=\"55\" style=\"fill:#fffea3;stroke-width:2;stroke:rgb(255,255,255)\"/><rect x=\"495\" y=\"0\" width=\"55\" height=\"55\" style=\"fill:#b9f2f0;stroke-width:2;stroke:rgb(255,255,255)\"/></svg>"
            ],
            "text/plain": [
              "[(0.6313725490196078, 0.788235294117647, 0.9568627450980393),\n",
              " (1.0, 0.7058823529411765, 0.5098039215686274),\n",
              " (0.5529411764705883, 0.8980392156862745, 0.6313725490196078),\n",
              " (1.0, 0.6235294117647059, 0.6078431372549019),\n",
              " (0.8156862745098039, 0.7333333333333333, 1.0),\n",
              " (0.8705882352941177, 0.7333333333333333, 0.6078431372549019),\n",
              " (0.9803921568627451, 0.6901960784313725, 0.8941176470588236),\n",
              " (0.8117647058823529, 0.8117647058823529, 0.8117647058823529),\n",
              " (1.0, 0.996078431372549, 0.6392156862745098),\n",
              " (0.7254901960784313, 0.9490196078431372, 0.9411764705882353)]"
            ]
          },
          "metadata": {},
          "execution_count": 134
        }
      ]
    },
    {
      "cell_type": "code",
      "source": [
        "sns.color_palette(\"RdPu\", 10)"
      ],
      "metadata": {
        "colab": {
          "base_uri": "https://localhost:8080/",
          "height": 77
        },
        "id": "f0QbkDAbMT7f",
        "outputId": "2bc4de7c-0aa8-4f57-9050-e22fe11267f1"
      },
      "execution_count": 135,
      "outputs": [
        {
          "output_type": "execute_result",
          "data": {
            "text/html": [
              "<svg  width=\"550\" height=\"55\"><rect x=\"0\" y=\"0\" width=\"55\" height=\"55\" style=\"fill:#fee6e3;stroke-width:2;stroke:rgb(255,255,255)\"/><rect x=\"55\" y=\"0\" width=\"55\" height=\"55\" style=\"fill:#fdd4d0;stroke-width:2;stroke:rgb(255,255,255)\"/><rect x=\"110\" y=\"0\" width=\"55\" height=\"55\" style=\"fill:#fcbfbe;stroke-width:2;stroke:rgb(255,255,255)\"/><rect x=\"165\" y=\"0\" width=\"55\" height=\"55\" style=\"fill:#faa2b6;stroke-width:2;stroke:rgb(255,255,255)\"/><rect x=\"220\" y=\"0\" width=\"55\" height=\"55\" style=\"fill:#f87ca8;stroke-width:2;stroke:rgb(255,255,255)\"/><rect x=\"275\" y=\"0\" width=\"55\" height=\"55\" style=\"fill:#ee559d;stroke-width:2;stroke:rgb(255,255,255)\"/><rect x=\"330\" y=\"0\" width=\"55\" height=\"55\" style=\"fill:#d93095;stroke-width:2;stroke:rgb(255,255,255)\"/><rect x=\"385\" y=\"0\" width=\"55\" height=\"55\" style=\"fill:#b60982;stroke-width:2;stroke:rgb(255,255,255)\"/><rect x=\"440\" y=\"0\" width=\"55\" height=\"55\" style=\"fill:#91017a;stroke-width:2;stroke:rgb(255,255,255)\"/><rect x=\"495\" y=\"0\" width=\"55\" height=\"55\" style=\"fill:#6c0173;stroke-width:2;stroke:rgb(255,255,255)\"/></svg>"
            ],
            "text/plain": [
              "[(0.9943406382160708, 0.9035447904652056, 0.8906881968473664),\n",
              " (0.9904190695886198, 0.8315109573241061, 0.8162706651287966),\n",
              " (0.9869434832756633, 0.7480046136101499, 0.745836216839677),\n",
              " (0.981038062283737, 0.6358016147635525, 0.7133564013840831),\n",
              " (0.9728719723183391, 0.48565936178392927, 0.6596693579392541),\n",
              " (0.931841599384852, 0.3342714340638216, 0.6172241445597847),\n",
              " (0.8514878892733564, 0.18745098039215685, 0.5840830449826989),\n",
              " (0.7127104959630911, 0.03686274509803919, 0.5102652825836217),\n",
              " (0.5687966166858901, 0.00392156862745098, 0.4788312187620146),\n",
              " (0.4249288735101884, 0.002829680891964629, 0.4524721261053441)]"
            ]
          },
          "metadata": {},
          "execution_count": 135
        }
      ]
    },
    {
      "cell_type": "code",
      "source": [
        "#Exemplos de nomes suportados na biblioteca\n",
        "'''Accent', 'Accent_r', 'Blues', 'Blues_r', 'BrBG', 'BrBG_r', 'BuGn', 'BuGn_r', 'BuPu', 'BuPu_r', 'CMRmap', \n",
        "'CMRmap_r', 'Dark2', 'Dark2_r', 'GnBu', 'GnBu_r', 'Greens', 'Greens_r', 'Greys', 'Greys_r', 'OrRd', 'OrRd_r', \n",
        "'Oranges', 'Oranges_r', 'PRGn', 'PRGn_r', 'Paired', 'Paired_r', 'Pastel1', 'Pastel1_r', 'Pastel2', 'Pastel2_r', \n",
        "'PiYG', 'PiYG_r', 'PuBu', 'PuBuGn', 'PuBuGn_r', 'PuBu_r', 'PuOr', 'PuOr_r', 'PuRd', 'PuRd_r', 'Purples', \n",
        "'Purples_r', 'RdBu', 'RdBu_r', 'RdGy', 'RdGy_r', 'RdPu', 'RdPu_r', 'RdYlBu', 'RdYlBu_r', 'RdYlGn', 'RdYlGn_r', \n",
        "'Reds', 'Reds_r', 'Set1', 'Set1_r', 'Set2', 'Set2_r', 'Set3', 'Set3_r', 'Spectral', 'Spectral_r', 'Wistia', \n",
        "'Wistia_r', 'YlGn', 'YlGnBu', 'YlGnBu_r', 'YlGn_r', 'YlOrBr', 'YlOrBr_r', 'YlOrRd', 'YlOrRd_r', 'afmhot', \n",
        "'afmhot_r', 'autumn', 'autumn_r', 'binary', 'binary_r', 'bone', 'bone_r', 'brg', 'brg_r', 'bwr', 'bwr_r', \n",
        "'cividis', 'cividis_r', 'cool', 'cool_r', 'coolwarm', 'coolwarm_r', 'copper', 'copper_r', 'crest', 'crest_r', \n",
        "'cubehelix', 'cubehelix_r', 'flag', 'flag_r', 'flare', 'flare_r', 'gist_earth', 'gist_earth_r', 'gist_gray', \n",
        "'gist_gray_r', 'gist_heat', 'gist_heat_r', 'gist_ncar', 'gist_ncar_r', 'gist_rainbow', 'gist_rainbow_r', \n",
        "'gist_stern', 'gist_stern_r', 'gist_yarg', 'gist_yarg_r', 'gnuplot', 'gnuplot2', 'gnuplot2_r', 'gnuplot_r', \n",
        "'gray', 'gray_r', 'hot', 'hot_r', 'hsv', 'hsv_r', 'icefire', 'icefire_r', 'inferno', 'inferno_r', 'jet', 'jet_r','''"
      ],
      "metadata": {
        "id": "apI7h9JmM85-",
        "colab": {
          "base_uri": "https://localhost:8080/",
          "height": 122
        },
        "outputId": "b569d797-01ed-4d3a-e549-bf22d4c4d468"
      },
      "execution_count": 136,
      "outputs": [
        {
          "output_type": "execute_result",
          "data": {
            "application/vnd.google.colaboratory.intrinsic+json": {
              "type": "string"
            },
            "text/plain": [
              "\"Accent', 'Accent_r', 'Blues', 'Blues_r', 'BrBG', 'BrBG_r', 'BuGn', 'BuGn_r', 'BuPu', 'BuPu_r', 'CMRmap', \\n'CMRmap_r', 'Dark2', 'Dark2_r', 'GnBu', 'GnBu_r', 'Greens', 'Greens_r', 'Greys', 'Greys_r', 'OrRd', 'OrRd_r', \\n'Oranges', 'Oranges_r', 'PRGn', 'PRGn_r', 'Paired', 'Paired_r', 'Pastel1', 'Pastel1_r', 'Pastel2', 'Pastel2_r', \\n'PiYG', 'PiYG_r', 'PuBu', 'PuBuGn', 'PuBuGn_r', 'PuBu_r', 'PuOr', 'PuOr_r', 'PuRd', 'PuRd_r', 'Purples', \\n'Purples_r', 'RdBu', 'RdBu_r', 'RdGy', 'RdGy_r', 'RdPu', 'RdPu_r', 'RdYlBu', 'RdYlBu_r', 'RdYlGn', 'RdYlGn_r', \\n'Reds', 'Reds_r', 'Set1', 'Set1_r', 'Set2', 'Set2_r', 'Set3', 'Set3_r', 'Spectral', 'Spectral_r', 'Wistia', \\n'Wistia_r', 'YlGn', 'YlGnBu', 'YlGnBu_r', 'YlGn_r', 'YlOrBr', 'YlOrBr_r', 'YlOrRd', 'YlOrRd_r', 'afmhot', \\n'afmhot_r', 'autumn', 'autumn_r', 'binary', 'binary_r', 'bone', 'bone_r', 'brg', 'brg_r', 'bwr', 'bwr_r', \\n'cividis', 'cividis_r', 'cool', 'cool_r', 'coolwarm', 'coolwarm_r', 'copper', 'copper_r', 'crest', 'crest_r', \\n'cubehelix', 'cubehelix_r', 'flag', 'flag_r', 'flare', 'flare_r', 'gist_earth', 'gist_earth_r', 'gist_gray', \\n'gist_gray_r', 'gist_heat', 'gist_heat_r', 'gist_ncar', 'gist_ncar_r', 'gist_rainbow', 'gist_rainbow_r', \\n'gist_stern', 'gist_stern_r', 'gist_yarg', 'gist_yarg_r', 'gnuplot', 'gnuplot2', 'gnuplot2_r', 'gnuplot_r', \\n'gray', 'gray_r', 'hot', 'hot_r', 'hsv', 'hsv_r', 'icefire', 'icefire_r', 'inferno', 'inferno_r', 'jet', 'jet_r',\""
            ]
          },
          "metadata": {},
          "execution_count": 136
        }
      ]
    },
    {
      "cell_type": "code",
      "source": [
        "#Alterando o número de cores dentro um intervalo\n",
        "sns.color_palette(\"CMRmap\")"
      ],
      "metadata": {
        "colab": {
          "base_uri": "https://localhost:8080/",
          "height": 77
        },
        "id": "mFCsy-jkM7Tc",
        "outputId": "5a872ad7-ff48-4a47-e5d5-ab603251b471"
      },
      "execution_count": 137,
      "outputs": [
        {
          "output_type": "execute_result",
          "data": {
            "text/html": [
              "<svg  width=\"330\" height=\"55\"><rect x=\"0\" y=\"0\" width=\"55\" height=\"55\" style=\"fill:#2b2688;stroke-width:2;stroke:rgb(255,255,255)\"/><rect x=\"55\" y=\"0\" width=\"55\" height=\"55\" style=\"fill:#632aad;stroke-width:2;stroke:rgb(255,255,255)\"/><rect x=\"110\" y=\"0\" width=\"55\" height=\"55\" style=\"fill:#c4385a;stroke-width:2;stroke:rgb(255,255,255)\"/><rect x=\"165\" y=\"0\" width=\"55\" height=\"55\" style=\"fill:#f06510;stroke-width:2;stroke:rgb(255,255,255)\"/><rect x=\"220\" y=\"0\" width=\"55\" height=\"55\" style=\"fill:#e6ad12;stroke-width:2;stroke:rgb(255,255,255)\"/><rect x=\"275\" y=\"0\" width=\"55\" height=\"55\" style=\"fill:#e6e172;stroke-width:2;stroke:rgb(255,255,255)\"/></svg>"
            ],
            "text/plain": [
              "[(0.16941176470588235, 0.15, 0.5323529411764706),\n",
              " (0.3870588235294118, 0.16450980392156864, 0.6774509803921569),\n",
              " (0.7678431372549019, 0.22098039215686274, 0.3531372549019608),\n",
              " (0.9419607843137255, 0.3950980392156863, 0.06294117647058822),\n",
              " (0.9, 0.6774509803921569, 0.07098039215686275),\n",
              " (0.9, 0.8805882352941177, 0.44823529411764707)]"
            ]
          },
          "metadata": {},
          "execution_count": 137
        }
      ]
    },
    {
      "cell_type": "code",
      "source": [
        "sns.color_palette(\"CMRmap\", 10)"
      ],
      "metadata": {
        "colab": {
          "base_uri": "https://localhost:8080/",
          "height": 77
        },
        "id": "SystmQd7NfKv",
        "outputId": "21658ec4-790c-4b94-beb7-0b8d79e6a5c6"
      },
      "execution_count": 138,
      "outputs": [
        {
          "output_type": "execute_result",
          "data": {
            "text/html": [
              "<svg  width=\"550\" height=\"55\"><rect x=\"0\" y=\"0\" width=\"55\" height=\"55\" style=\"fill:#1c1c5c;stroke-width:2;stroke:rgb(255,255,255)\"/><rect x=\"55\" y=\"0\" width=\"55\" height=\"55\" style=\"fill:#37269c;stroke-width:2;stroke:rgb(255,255,255)\"/><rect x=\"110\" y=\"0\" width=\"55\" height=\"55\" style=\"fill:#5928b5;stroke-width:2;stroke:rgb(255,255,255)\"/><rect x=\"165\" y=\"0\" width=\"55\" height=\"55\" style=\"fill:#933285;stroke-width:2;stroke:rgb(255,255,255)\"/><rect x=\"220\" y=\"0\" width=\"55\" height=\"55\" style=\"fill:#da3b46;stroke-width:2;stroke:rgb(255,255,255)\"/><rect x=\"275\" y=\"0\" width=\"55\" height=\"55\" style=\"fill:#f65718;stroke-width:2;stroke:rgb(255,255,255)\"/><rect x=\"330\" y=\"0\" width=\"55\" height=\"55\" style=\"fill:#e68502;stroke-width:2;stroke:rgb(255,255,255)\"/><rect x=\"385\" y=\"0\" width=\"55\" height=\"55\" style=\"fill:#e6b515;stroke-width:2;stroke:rgb(255,255,255)\"/><rect x=\"440\" y=\"0\" width=\"55\" height=\"55\" style=\"fill:#e6d552;stroke-width:2;stroke:rgb(255,255,255)\"/><rect x=\"495\" y=\"0\" width=\"55\" height=\"55\" style=\"fill:#ededa3;stroke-width:2;stroke:rgb(255,255,255)\"/></svg>"
            ],
            "text/plain": [
              "[(0.10823529411764705, 0.10823529411764705, 0.3607843137254902),\n",
              " (0.2164705882352941, 0.15, 0.6107843137254902),\n",
              " (0.3494117647058823, 0.15823529411764706, 0.7088235294117647),\n",
              " (0.5752941176470587, 0.19588235294117648, 0.5205882352941177),\n",
              " (0.855686274509804, 0.2319607843137255, 0.2762745098039216),\n",
              " (0.9639215686274509, 0.34019607843137256, 0.09588235294117647),\n",
              " (0.9, 0.5205882352941177, 0.00823529411764706),\n",
              " (0.9, 0.7088235294117647, 0.0835294117647059),\n",
              " (0.9, 0.8335294117647059, 0.3227450980392157),\n",
              " (0.927843137254902, 0.927843137254902, 0.6392156862745098)]"
            ]
          },
          "metadata": {},
          "execution_count": 138
        }
      ]
    },
    {
      "cell_type": "code",
      "source": [
        "sns.color_palette(\"CMRmap\", 20)"
      ],
      "metadata": {
        "colab": {
          "base_uri": "https://localhost:8080/",
          "height": 77
        },
        "id": "FumC1NL0Nhk-",
        "outputId": "e4ce63d0-3f4d-4550-91aa-e8661dee0a44"
      },
      "execution_count": 139,
      "outputs": [
        {
          "output_type": "execute_result",
          "data": {
            "text/html": [
              "<svg  width=\"1100\" height=\"55\"><rect x=\"0\" y=\"0\" width=\"55\" height=\"55\" style=\"fill:#0e0e30;stroke-width:2;stroke:rgb(255,255,255)\"/><rect x=\"55\" y=\"0\" width=\"55\" height=\"55\" style=\"fill:#1d1d60;stroke-width:2;stroke:rgb(255,255,255)\"/><rect x=\"110\" y=\"0\" width=\"55\" height=\"55\" style=\"fill:#2b2688;stroke-width:2;stroke:rgb(255,255,255)\"/><rect x=\"165\" y=\"0\" width=\"55\" height=\"55\" style=\"fill:#3a26a0;stroke-width:2;stroke:rgb(255,255,255)\"/><rect x=\"220\" y=\"0\" width=\"55\" height=\"55\" style=\"fill:#4826b8;stroke-width:2;stroke:rgb(255,255,255)\"/><rect x=\"275\" y=\"0\" width=\"55\" height=\"55\" style=\"fill:#632aad;stroke-width:2;stroke:rgb(255,255,255)\"/><rect x=\"330\" y=\"0\" width=\"55\" height=\"55\" style=\"fill:#802f95;stroke-width:2;stroke:rgb(255,255,255)\"/><rect x=\"385\" y=\"0\" width=\"55\" height=\"55\" style=\"fill:#9d347c;stroke-width:2;stroke:rgb(255,255,255)\"/><rect x=\"440\" y=\"0\" width=\"55\" height=\"55\" style=\"fill:#c4385a;stroke-width:2;stroke:rgb(255,255,255)\"/><rect x=\"495\" y=\"0\" width=\"55\" height=\"55\" style=\"fill:#ea3d38;stroke-width:2;stroke:rgb(255,255,255)\"/><rect x=\"550\" y=\"0\" width=\"55\" height=\"55\" style=\"fill:#fa4d1e;stroke-width:2;stroke:rgb(255,255,255)\"/><rect x=\"605\" y=\"0\" width=\"55\" height=\"55\" style=\"fill:#f06510;stroke-width:2;stroke:rgb(255,255,255)\"/><rect x=\"660\" y=\"0\" width=\"55\" height=\"55\" style=\"fill:#e77d02;stroke-width:2;stroke:rgb(255,255,255)\"/><rect x=\"715\" y=\"0\" width=\"55\" height=\"55\" style=\"fill:#e69508;stroke-width:2;stroke:rgb(255,255,255)\"/><rect x=\"770\" y=\"0\" width=\"55\" height=\"55\" style=\"fill:#e6ad12;stroke-width:2;stroke:rgb(255,255,255)\"/><rect x=\"825\" y=\"0\" width=\"55\" height=\"55\" style=\"fill:#e6c426;stroke-width:2;stroke:rgb(255,255,255)\"/><rect x=\"880\" y=\"0\" width=\"55\" height=\"55\" style=\"fill:#e6d24c;stroke-width:2;stroke:rgb(255,255,255)\"/><rect x=\"935\" y=\"0\" width=\"55\" height=\"55\" style=\"fill:#e6e172;stroke-width:2;stroke:rgb(255,255,255)\"/><rect x=\"990\" y=\"0\" width=\"55\" height=\"55\" style=\"fill:#ecec9f;stroke-width:2;stroke:rgb(255,255,255)\"/><rect x=\"1045\" y=\"0\" width=\"55\" height=\"55\" style=\"fill:#f5f5cf;stroke-width:2;stroke:rgb(255,255,255)\"/></svg>"
            ],
            "text/plain": [
              "[(0.05647058823529411, 0.05647058823529411, 0.18823529411764706),\n",
              " (0.11294117647058823, 0.11294117647058823, 0.3764705882352941),\n",
              " (0.16941176470588235, 0.15, 0.5323529411764706),\n",
              " (0.22588235294117648, 0.15, 0.6264705882352941),\n",
              " (0.2823529411764706, 0.15, 0.7205882352941176),\n",
              " (0.3870588235294118, 0.16450980392156864, 0.6774509803921569),\n",
              " (0.5, 0.18333333333333335, 0.5833333333333334),\n",
              " (0.6172549019607843, 0.20215686274509806, 0.48490196078431375),\n",
              " (0.7678431372549019, 0.22098039215686274, 0.3531372549019608),\n",
              " (0.9184313725490196, 0.23980392156862745, 0.2213725490196079),\n",
              " (0.9796078431372549, 0.30098039215686273, 0.11941176470588236),\n",
              " (0.9419607843137255, 0.3950980392156863, 0.06294117647058822),\n",
              " (0.9043137254901961, 0.48921568627450984, 0.006470588235294117),\n",
              " (0.9, 0.5833333333333334, 0.03333333333333333),\n",
              " (0.9, 0.6774509803921569, 0.07098039215686275),\n",
              " (0.9, 0.7676470588235295, 0.14705882352941177),\n",
              " (0.9, 0.8241176470588235, 0.29764705882352943),\n",
              " (0.9, 0.8805882352941177, 0.44823529411764707),\n",
              " (0.9247058823529412, 0.9247058823529412, 0.6235294117647059),\n",
              " (0.9623529411764706, 0.9623529411764706, 0.8117647058823529)]"
            ]
          },
          "metadata": {},
          "execution_count": 139
        }
      ]
    },
    {
      "cell_type": "markdown",
      "source": [
        "#seaborn.***set_palette***\n",
        "###Defina o ciclo de cores matplotlib usando uma paleta seaborn."
      ],
      "metadata": {
        "id": "PBYxw4V0NpGk"
      }
    },
    {
      "cell_type": "code",
      "source": [
        "sns.set_theme(style=\"whitegrid\")\n",
        "sns.set_palette(\"CMRmap\", n_colors = 5, desat = .95)\n",
        "sns.barplot(x=[\"A\", \"B\", \"C\", \"D\", \"E\"], y=[1, 2, 3, 2, 1])"
      ],
      "metadata": {
        "colab": {
          "base_uri": "https://localhost:8080/",
          "height": 286
        },
        "id": "M5swdb6mNoxs",
        "outputId": "e08bcb1e-273a-44b1-cfd4-3b6bf2c764b2"
      },
      "execution_count": 140,
      "outputs": [
        {
          "output_type": "execute_result",
          "data": {
            "text/plain": [
              "<matplotlib.axes._subplots.AxesSubplot at 0x7fbb81bf7e50>"
            ]
          },
          "metadata": {},
          "execution_count": 140
        },
        {
          "output_type": "display_data",
          "data": {
            "image/png": "[encoded data removed]",
            "text/plain": [
              "<Figure size 432x288 with 1 Axes>"
            ]
          },
          "metadata": {}
        }
      ]
    },
    {
      "cell_type": "code",
      "source": [
        "sns.set_palette(\"flare\", n_colors = 5, desat = .75)\n",
        "sns.barplot(x=[\"A\", \"B\", \"C\", \"D\", \"E\"], y=[1, 2, 3, 2, 1])"
      ],
      "metadata": {
        "colab": {
          "base_uri": "https://localhost:8080/",
          "height": 286
        },
        "id": "wVT3bljqR-_g",
        "outputId": "da0ca909-c596-4ad2-8b97-9c712e37f519"
      },
      "execution_count": 141,
      "outputs": [
        {
          "output_type": "execute_result",
          "data": {
            "text/plain": [
              "<matplotlib.axes._subplots.AxesSubplot at 0x7fbb81c05550>"
            ]
          },
          "metadata": {},
          "execution_count": 141
        },
        {
          "output_type": "display_data",
          "data": {
            "image/png": "[encoded data removed]",
            "text/plain": [
              "<Figure size 432x288 with 1 Axes>"
            ]
          },
          "metadata": {}
        }
      ]
    }
  ]
}