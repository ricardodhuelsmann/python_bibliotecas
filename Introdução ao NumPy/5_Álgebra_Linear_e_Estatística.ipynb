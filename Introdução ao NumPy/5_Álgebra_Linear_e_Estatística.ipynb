{
  "nbformat": 4,
  "nbformat_minor": 0,
  "metadata": {
    "colab": {
      "name": "5 - Álgebra Linear e Estatística.ipynb",
      "provenance": [],
      "collapsed_sections": [],
      "authorship_tag": "ABX9TyM/gDMKP20JFuio3zcDyfA6",
      "include_colab_link": true
    },
    "kernelspec": {
      "name": "python3",
      "display_name": "Python 3"
    },
    "language_info": {
      "name": "python"
    }
  },
  "cells": [
    {
      "cell_type": "markdown",
      "metadata": {
        "id": "view-in-github",
        "colab_type": "text"
      },
      "source": [
        "<a href=\"https://colab.research.google.com/github/ricardodhuelsmann/python_bibliotecas/blob/main/Introdu%C3%A7%C3%A3o%20ao%20NumPy/5_%C3%81lgebra_Linear_e_Estat%C3%ADstica.ipynb\" target=\"_parent\"><img src=\"https://colab.research.google.com/assets/colab-badge.svg\" alt=\"Open In Colab\"/></a>"
      ]
    },
    {
      "cell_type": "markdown",
      "metadata": {
        "id": "2s_FTeyGM2xt"
      },
      "source": [
        "#NumPy\n",
        "###Aplicações de Álgebra Linear com a biblioteca NumPy"
      ]
    },
    {
      "cell_type": "code",
      "metadata": {
        "id": "Bb7Fl9CZMsKL"
      },
      "source": [
        "import numpy as np"
      ],
      "execution_count": 2,
      "outputs": []
    },
    {
      "cell_type": "code",
      "metadata": {
        "colab": {
          "base_uri": "https://localhost:8080/"
        },
        "id": "raP_la-PM2e2",
        "outputId": "d0ad12ee-eb3b-4391-a18f-e0b5fcaf1b41"
      },
      "source": [
        "'''\n",
        "A multiplicação de matrizes é\n",
        "comum em Álgebra Linear\n",
        "'''\n",
        "array_1 = np.ones((2,4))\n",
        "print(array_1)\n",
        "\n",
        "array_2 = np.full((4,2), 2)\n",
        "print(array_2)\n",
        "\n",
        "array_3 = np.dot(array_1, array_2)\n",
        "print(array_3)"
      ],
      "execution_count": 6,
      "outputs": [
        {
          "output_type": "stream",
          "name": "stdout",
          "text": [
            "[[1. 1. 1. 1.]\n",
            " [1. 1. 1. 1.]]\n",
            "[[2 2]\n",
            " [2 2]\n",
            " [2 2]\n",
            " [2 2]]\n",
            "[[8. 8.]\n",
            " [8. 8.]]\n"
          ]
        }
      ]
    },
    {
      "cell_type": "code",
      "metadata": {
        "colab": {
          "base_uri": "https://localhost:8080/"
        },
        "id": "IwRxK5RAOLcw",
        "outputId": "e13c83f6-bbd4-4a44-891c-1b94212027d9"
      },
      "source": [
        "'''\n",
        "NumPy permite calcular também \n",
        "o determinante de matrizes\n",
        "'''\n",
        "determinante = np.linalg.det(array_3)\n",
        "print(f'O determinante do array_3 é {determinante}.')"
      ],
      "execution_count": 9,
      "outputs": [
        {
          "output_type": "stream",
          "name": "stdout",
          "text": [
            "O determinante do array_3 é 0.0.\n"
          ]
        }
      ]
    },
    {
      "cell_type": "code",
      "metadata": {
        "colab": {
          "base_uri": "https://localhost:8080/"
        },
        "id": "XEbgBoeDO4dc",
        "outputId": "c869f399-0be2-4e54-ceda-8379c4f11e82"
      },
      "source": [
        "'''\n",
        "Também é possível encontrar a inversa\n",
        "de determinada matriz\n",
        "'''\n",
        "array_4 = np.array([[0.25,1], [0.5,3]])\n",
        "inversa = np.linalg.inv(array_4)\n",
        "print(inversa)"
      ],
      "execution_count": 16,
      "outputs": [
        {
          "output_type": "stream",
          "name": "stdout",
          "text": [
            "[[12. -4.]\n",
            " [-2.  1.]]\n"
          ]
        }
      ]
    },
    {
      "cell_type": "markdown",
      "metadata": {
        "id": "vSpET3BVPpBW"
      },
      "source": [
        "###Aplicações estatísticas com NumPy"
      ]
    },
    {
      "cell_type": "code",
      "metadata": {
        "colab": {
          "base_uri": "https://localhost:8080/"
        },
        "id": "hC128dEoPrkd",
        "outputId": "5bb03d57-2108-487b-86c9-56cef0011e20"
      },
      "source": [
        "array_5 = np.array([[0,1,2,3], [4,5,6,7]])\n",
        "print(array_5)"
      ],
      "execution_count": 20,
      "outputs": [
        {
          "output_type": "stream",
          "name": "stdout",
          "text": [
            "[[0 1 2 3]\n",
            " [4 5 6 7]]\n"
          ]
        }
      ]
    },
    {
      "cell_type": "code",
      "metadata": {
        "colab": {
          "base_uri": "https://localhost:8080/"
        },
        "id": "Ny5sDFKwQIAR",
        "outputId": "0498ba83-e19e-449a-8c06-436bf80a81f4"
      },
      "source": [
        "''' \n",
        "É possível encontrar o valor \n",
        "mínimo e máximo facilmente\n",
        "'''\n",
        "minimo = np.min(array_5)\n",
        "maximo = np.max(array_5)\n",
        "print(f'O valor mínimo é {minimo} e o máximo é {maximo}.')"
      ],
      "execution_count": 21,
      "outputs": [
        {
          "output_type": "stream",
          "name": "stdout",
          "text": [
            "O valor mínimo é 0 e o máximo é 7.\n"
          ]
        }
      ]
    },
    {
      "cell_type": "code",
      "metadata": {
        "colab": {
          "base_uri": "https://localhost:8080/"
        },
        "id": "CFIR1mxITYzo",
        "outputId": "2b4c64e4-2b33-4170-f4f7-b06747d5b5c3"
      },
      "source": [
        "'''\n",
        "É possível encontrar os mínimos por eixos\n",
        "'''\n",
        "minimo_linha = np.min(array_5, axis=1)\n",
        "maximo_linha = np.max(array_5, axis=1)\n",
        "print(f'O valor mínimo por linha é {minimo_linha} e o máximo é {maximo_linha}.')"
      ],
      "execution_count": 23,
      "outputs": [
        {
          "output_type": "stream",
          "name": "stdout",
          "text": [
            "O valor mínimo por linha é [0 4] e o máximo é [3 7].\n"
          ]
        }
      ]
    },
    {
      "cell_type": "code",
      "metadata": {
        "colab": {
          "base_uri": "https://localhost:8080/"
        },
        "id": "3JF7m3AlTr04",
        "outputId": "0dee37c1-2e85-4dce-9068-6996dc6d83dd"
      },
      "source": [
        "'''\n",
        "É possível encontrar os mínimos por eixos\n",
        "'''\n",
        "minimo_coluna = np.min(array_5, axis=0)\n",
        "maximo_coluna = np.max(array_5, axis=0)\n",
        "print(f'O valor mínimo por coluna é {minimo_coluna} e o máximo é {maximo_coluna}.')"
      ],
      "execution_count": 24,
      "outputs": [
        {
          "output_type": "stream",
          "name": "stdout",
          "text": [
            "O valor mínimo por coluna é [0 1 2 3] e o máximo é [4 5 6 7].\n"
          ]
        }
      ]
    },
    {
      "cell_type": "code",
      "metadata": {
        "colab": {
          "base_uri": "https://localhost:8080/"
        },
        "id": "qLjKPLDcUB6P",
        "outputId": "f3515f92-ecf7-45fe-e55a-186bba8dd871"
      },
      "source": [
        "'''\n",
        "Para determinar a soma dos valores \n",
        "dos dados é possível usar 'sum'\n",
        "'''\n",
        "soma = np.sum(array_5)\n",
        "print(soma)"
      ],
      "execution_count": 25,
      "outputs": [
        {
          "output_type": "stream",
          "name": "stdout",
          "text": [
            "28\n"
          ]
        }
      ]
    },
    {
      "cell_type": "code",
      "metadata": {
        "colab": {
          "base_uri": "https://localhost:8080/"
        },
        "id": "eqClVwEoUM_9",
        "outputId": "03fa7c07-f381-4fe0-a387-269fd8a56523"
      },
      "source": [
        "'''\n",
        "Também é possível delimitar os eixos\n",
        "e encontrar a soma respectiva\n",
        "'''\n",
        "soma_linha = np.sum(array_5, axis=1)\n",
        "print('Soma por linha = ', soma_linha)\n",
        "\n",
        "soma_coluna = np.sum(array_5, axis=0)\n",
        "print('Soma por coluna = ', soma_coluna)"
      ],
      "execution_count": 29,
      "outputs": [
        {
          "output_type": "stream",
          "name": "stdout",
          "text": [
            "Soma por linha =  [ 6 22]\n",
            "Soma por coluna =  [ 4  6  8 10]\n"
          ]
        }
      ]
    },
    {
      "cell_type": "code",
      "metadata": {
        "colab": {
          "base_uri": "https://localhost:8080/"
        },
        "id": "Xmbw8Y5xUzaJ",
        "outputId": "22b88af1-5687-4e94-94d8-7b6942bc35ed"
      },
      "source": [
        "'''\n",
        "A média é outra função importante\n",
        "'''\n",
        "media = np.average(array_5)\n",
        "print(media)"
      ],
      "execution_count": 30,
      "outputs": [
        {
          "output_type": "stream",
          "name": "stdout",
          "text": [
            "3.5\n"
          ]
        }
      ]
    },
    {
      "cell_type": "code",
      "metadata": {
        "colab": {
          "base_uri": "https://localhost:8080/"
        },
        "id": "wH7XAEw1U7kw",
        "outputId": "c02b2b40-e142-4130-b5b1-7ffcd6484bd0"
      },
      "source": [
        "'''\n",
        "De mesma forma como os anteriores, \n",
        "é possível fazer por eixos (linha/coluna)\n",
        "'''\n",
        "media_linha = np.average(array_5, axis=1)\n",
        "print('Média por linha = ', media_linha)\n",
        "\n",
        "media_coluna = np.average(array_5, axis=0)\n",
        "print('Média por coluna = ', media_coluna)"
      ],
      "execution_count": 32,
      "outputs": [
        {
          "output_type": "stream",
          "name": "stdout",
          "text": [
            "Média por linha =  [1.5 5.5]\n",
            "Média por coluna =  [2. 3. 4. 5.]\n"
          ]
        }
      ]
    }
  ]
}