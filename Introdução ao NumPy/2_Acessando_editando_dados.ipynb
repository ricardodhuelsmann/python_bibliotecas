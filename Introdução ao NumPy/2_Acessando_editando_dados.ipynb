{
  "nbformat": 4,
  "nbformat_minor": 0,
  "metadata": {
    "colab": {
      "name": "2 - Acessando_editando_dados.ipynb",
      "provenance": [],
      "collapsed_sections": [],
      "authorship_tag": "ABX9TyPHQxK6WM16pz9BLQIB+rek",
      "include_colab_link": true
    },
    "kernelspec": {
      "name": "python3",
      "display_name": "Python 3"
    },
    "language_info": {
      "name": "python"
    }
  },
  "cells": [
    {
      "cell_type": "markdown",
      "metadata": {
        "id": "view-in-github",
        "colab_type": "text"
      },
      "source": [
        "<a href=\"https://colab.research.google.com/github/ricardodhuelsmann/python_bibliotecas/blob/main/Introdu%C3%A7%C3%A3o%20ao%20NumPy/2_Acessando_editando_dados.ipynb\" target=\"_parent\"><img src=\"https://colab.research.google.com/assets/colab-badge.svg\" alt=\"Open In Colab\"/></a>"
      ]
    },
    {
      "cell_type": "markdown",
      "metadata": {
        "id": "FN1nKN9kBAYc"
      },
      "source": [
        "#NumPy\n",
        "###Exemplos de acesso e edição de dados"
      ]
    },
    {
      "cell_type": "code",
      "metadata": {
        "id": "ZnT2GjVM41B3"
      },
      "source": [
        "import numpy as np"
      ],
      "execution_count": 2,
      "outputs": []
    },
    {
      "cell_type": "code",
      "metadata": {
        "colab": {
          "base_uri": "https://localhost:8080/"
        },
        "id": "CB4yKv4c5EK7",
        "outputId": "b231c04f-68a8-48f4-9541-571cc0503051"
      },
      "source": [
        "'''\n",
        "Para iniciar, criamos um array de duas dimensões\n",
        "'''\n",
        "array_1 = np.array([[0,1,2,3,4], [9,8,7,6,5]], dtype='int16')\n",
        "print(array_1)\n",
        "print(f'A dimensão do primeiro array é {array_1.ndim} e sua forma é {array_1.shape}.')"
      ],
      "execution_count": 26,
      "outputs": [
        {
          "output_type": "stream",
          "name": "stdout",
          "text": [
            "[[0 1 2 3 4]\n",
            " [9 8 7 6 5]]\n",
            "A dimensão do primeiro array é 2 e sua forma é (2, 5).\n"
          ]
        }
      ]
    },
    {
      "cell_type": "code",
      "metadata": {
        "colab": {
          "base_uri": "https://localhost:8080/"
        },
        "id": "ZC0D2mAh6CEd",
        "outputId": "54e96ae9-9c8a-43f4-b00b-82182c9a0d95"
      },
      "source": [
        "'''\n",
        "Para obter um determinado valor, usa-se o padrão do Python (inicia contagem em zero).\n",
        "Para uma matriz de duas dimensões, passa-se os dados necessários da seguinte forma:\n",
        "[linha, coluna]\n",
        "'''\n",
        "print(array_1[1,2]) #Obtém o valor da segunda linha, terceira coluna"
      ],
      "execution_count": 6,
      "outputs": [
        {
          "output_type": "stream",
          "name": "stdout",
          "text": [
            "7\n"
          ]
        }
      ]
    },
    {
      "cell_type": "code",
      "metadata": {
        "colab": {
          "base_uri": "https://localhost:8080/"
        },
        "id": "WbTvHOnK8_gT",
        "outputId": "1b77372c-5611-479c-962b-4a96235cd16b"
      },
      "source": [
        "'''\n",
        "Agora testando array de uma única dimensão\n",
        "'''\n",
        "array_2 = np.array([10, 15, 20])\n",
        "print(array_2)\n",
        "print(f'A dimensão do segundo array é {array_2.ndim} e sua forma é {array_2.shape}.')"
      ],
      "execution_count": 27,
      "outputs": [
        {
          "output_type": "stream",
          "name": "stdout",
          "text": [
            "[10 15 20]\n",
            "A dimensão do segundo array é 1 e sua forma é (3,).\n"
          ]
        }
      ]
    },
    {
      "cell_type": "code",
      "metadata": {
        "colab": {
          "base_uri": "https://localhost:8080/"
        },
        "id": "T1Hz8UlK9KER",
        "outputId": "c19906ec-08ef-47d8-d3c9-dfdf335848ca"
      },
      "source": [
        "'''\n",
        "Para obter um determinado valor, no caso de uma matriz de uma dimensão,\n",
        "passa-se naturalmente, a posição do elemento desejado\n",
        "'''\n",
        "print(array_2[0]) #Imprime o primeiro valor do array_2"
      ],
      "execution_count": 28,
      "outputs": [
        {
          "output_type": "stream",
          "name": "stdout",
          "text": [
            "10\n"
          ]
        }
      ]
    },
    {
      "cell_type": "code",
      "metadata": {
        "colab": {
          "base_uri": "https://localhost:8080/"
        },
        "id": "hQoYuTvG9gZU",
        "outputId": "42d91cf4-c560-421e-ce5c-b7f29409d729"
      },
      "source": [
        "'''\n",
        "É possível fazer o mesmo com multidimensões\n",
        "'''\n",
        "array_3 = np.array([[[0,0,0], [1,1,1]], [[2,2,2], [3,3,3]]])\n",
        "print(array_3)\n",
        "print(f'A dimensão do terceiro array é {array_3.ndim} e sua forma é {array_3.shape}.')"
      ],
      "execution_count": 31,
      "outputs": [
        {
          "output_type": "stream",
          "name": "stdout",
          "text": [
            "[[[0 0 0]\n",
            "  [1 1 1]]\n",
            "\n",
            " [[2 2 2]\n",
            "  [3 3 3]]]\n",
            "A dimensão do terceiro array é 3 e sua forma é (2, 2, 3).\n"
          ]
        }
      ]
    },
    {
      "cell_type": "code",
      "metadata": {
        "colab": {
          "base_uri": "https://localhost:8080/"
        },
        "id": "bnL2MYUu933f",
        "outputId": "2ed0b881-b42e-4ba1-e556-d524ee6f1bc8"
      },
      "source": [
        "'''\n",
        "Para o caso de array multidimensional, passa-se \n",
        "informações de todas as dimensões necessárias\n",
        "'''\n",
        "print(array_3[1,1,2]) #Dimensão 2, linha 2 e coluna 3"
      ],
      "execution_count": 32,
      "outputs": [
        {
          "output_type": "stream",
          "name": "stdout",
          "text": [
            "3\n"
          ]
        }
      ]
    },
    {
      "cell_type": "code",
      "metadata": {
        "colab": {
          "base_uri": "https://localhost:8080/"
        },
        "id": "QNFRiaRd-Z4c",
        "outputId": "328cbd17-2650-4ec4-cf53-444d2e58aa72"
      },
      "source": [
        "'''\n",
        "É possível encontrar linhas ou colunas inteiras\n",
        "'''\n",
        "print(array_1[0, :]) #Retorna toda a primeira linha"
      ],
      "execution_count": 33,
      "outputs": [
        {
          "output_type": "stream",
          "name": "stdout",
          "text": [
            "[0 1 2 3 4]\n"
          ]
        }
      ]
    },
    {
      "cell_type": "code",
      "metadata": {
        "colab": {
          "base_uri": "https://localhost:8080/"
        },
        "id": "w5crnJ1b-nIB",
        "outputId": "e9eb5cdc-94f2-4789-a760-5ecd5f93ef30"
      },
      "source": [
        "'''\n",
        "Similarmente, faz-se o mesmo para colunas\n",
        "'''\n",
        "print(array_1[:, 0])"
      ],
      "execution_count": 34,
      "outputs": [
        {
          "output_type": "stream",
          "name": "stdout",
          "text": [
            "[0 9]\n"
          ]
        }
      ]
    },
    {
      "cell_type": "code",
      "metadata": {
        "colab": {
          "base_uri": "https://localhost:8080/"
        },
        "id": "noIDXL7x_RWc",
        "outputId": "51a8b425-8974-4376-a3f6-234a8cb1b5df"
      },
      "source": [
        "'''\n",
        "Uma vez que se sabe localizar os elementos,\n",
        "é possível alterá-los de forma similiar\n",
        "'''\n",
        "print('Antes de mudar:', array_2)\n",
        "array_2[2]=-99\n",
        "print('Depois de mudar:', array_2)"
      ],
      "execution_count": 35,
      "outputs": [
        {
          "output_type": "stream",
          "name": "stdout",
          "text": [
            "Antes de mudar: [10 15 20]\n",
            "Depois de mudar: [ 10  15 -99]\n"
          ]
        }
      ]
    }
  ]
}