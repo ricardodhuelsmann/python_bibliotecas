{
  "nbformat": 4,
  "nbformat_minor": 0,
  "metadata": {
    "colab": {
      "name": "4 - Matemática_básica.ipynb",
      "provenance": [],
      "collapsed_sections": [],
      "authorship_tag": "ABX9TyMlxWFMTbahjh7SxeVERH1b",
      "include_colab_link": true
    },
    "kernelspec": {
      "name": "python3",
      "display_name": "Python 3"
    },
    "language_info": {
      "name": "python"
    }
  },
  "cells": [
    {
      "cell_type": "markdown",
      "metadata": {
        "id": "view-in-github",
        "colab_type": "text"
      },
      "source": [
        "<a href=\"https://colab.research.google.com/github/ricardodhuelsmann/python_bibliotecas/blob/main/Introdu%C3%A7%C3%A3o%20ao%20NumPy/4_Matem%C3%A1tica_b%C3%A1sica.ipynb\" target=\"_parent\"><img src=\"https://colab.research.google.com/assets/colab-badge.svg\" alt=\"Open In Colab\"/></a>"
      ]
    },
    {
      "cell_type": "markdown",
      "metadata": {
        "id": "qGa9pR1-t92o"
      },
      "source": [
        "#NumPy\n",
        "###Operações matemáticas básicas com a biblioteca NumPy\n"
      ]
    },
    {
      "cell_type": "code",
      "metadata": {
        "id": "IwPduNObt2c7"
      },
      "source": [
        "import numpy as np"
      ],
      "execution_count": 1,
      "outputs": []
    },
    {
      "cell_type": "code",
      "metadata": {
        "colab": {
          "base_uri": "https://localhost:8080/"
        },
        "id": "C_2nWogNuE9x",
        "outputId": "28e59442-fd21-4e75-c149-d6cc9645d7c0"
      },
      "source": [
        "array = np.array([1,2,3,4])\n",
        "print(array)"
      ],
      "execution_count": 2,
      "outputs": [
        {
          "output_type": "stream",
          "name": "stdout",
          "text": [
            "[1 2 3 4]\n"
          ]
        }
      ]
    },
    {
      "cell_type": "code",
      "metadata": {
        "colab": {
          "base_uri": "https://localhost:8080/"
        },
        "id": "RUwmt7iJuehO",
        "outputId": "7fe80b16-6061-4723-c6f3-9f873d7ff454"
      },
      "source": [
        "'''\n",
        "As operações matemáticas com\n",
        "NumPy são simples e diretas,\n",
        "aplicando-se para cada elemento\n",
        "'''\n",
        "array_soma = array + 10 #Soma 10 a cada elemento\n",
        "print('Soma 10: \\n', array_soma)\n",
        "\n",
        "array_multiplicacao = array*3 #Multiplica os elementos por 3\n",
        "print('Multiplica por 3:\\n', array_multiplicacao)\n",
        "\n",
        "array_quadrado = array**2 #Eleva valores ao quadrado\n",
        "print('Eleva ao quadrado:\\n', array_quadrado)\n"
      ],
      "execution_count": 7,
      "outputs": [
        {
          "output_type": "stream",
          "name": "stdout",
          "text": [
            "Soma 10: \n",
            " [11 12 13 14]\n",
            "Multiplica por 3:\n",
            " [ 3  6  9 12]\n",
            "Eleva ao quadrado:\n",
            " [ 1  4  9 16]\n"
          ]
        }
      ]
    },
    {
      "cell_type": "code",
      "metadata": {
        "colab": {
          "base_uri": "https://localhost:8080/"
        },
        "id": "DJO29oe0v4ya",
        "outputId": "e1a499ad-4e50-4bce-b606-c87b1153b8dc"
      },
      "source": [
        "'''\n",
        "Funções trigonométricas também são aplicáveis\n",
        "'''\n",
        "array_seno = np.sin(array) #Seno\n",
        "print(array_seno)\n",
        "\n",
        "array_cosseno = np.cos(array) #Cosseno\n",
        "print(array_cosseno)"
      ],
      "execution_count": 11,
      "outputs": [
        {
          "output_type": "stream",
          "name": "stdout",
          "text": [
            "[ 0.84147098  0.90929743  0.14112001 -0.7568025 ]\n",
            "[ 0.54030231 -0.41614684 -0.9899925  -0.65364362]\n"
          ]
        }
      ]
    },
    {
      "cell_type": "code",
      "metadata": {
        "colab": {
          "base_uri": "https://localhost:8080/"
        },
        "id": "As9EwlOwwt_d",
        "outputId": "aa3257a4-6643-46a7-fcaa-4cef8a1e3fde"
      },
      "source": [
        "'''\n",
        "É possível também fazer operações entre \n",
        "os valores de duas matrizes\n",
        "'''\n",
        "array_2 = np.array([0,1,2,3])\n",
        "array_3 = array + array_2\n",
        "print(f'{array} + {array_2} = {array_3}')"
      ],
      "execution_count": 16,
      "outputs": [
        {
          "output_type": "stream",
          "name": "stdout",
          "text": [
            "[1 2 3 4] + [0 1 2 3] = [1 3 5 7]\n"
          ]
        }
      ]
    },
    {
      "cell_type": "code",
      "metadata": {
        "colab": {
          "base_uri": "https://localhost:8080/"
        },
        "id": "rce8oVyAxNZb",
        "outputId": "91a85254-83a4-4452-ff80-3df9f7f32622"
      },
      "source": [
        "array_4 = array * array_2\n",
        "print(f'{array} * {array_2} = {array_4}')\n"
      ],
      "execution_count": 17,
      "outputs": [
        {
          "output_type": "stream",
          "name": "stdout",
          "text": [
            "[1 2 3 4] * [0 1 2 3] = [ 0  2  6 12]\n"
          ]
        }
      ]
    }
  ]
}