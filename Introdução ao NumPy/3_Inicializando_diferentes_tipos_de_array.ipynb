{
  "nbformat": 4,
  "nbformat_minor": 0,
  "metadata": {
    "colab": {
      "name": "3 - Inicializando_diferentes_tipos_de_array.ipynb",
      "provenance": [],
      "collapsed_sections": [],
      "authorship_tag": "ABX9TyNDQwHIhJECe4xF+QdYo8RL",
      "include_colab_link": true
    },
    "kernelspec": {
      "name": "python3",
      "display_name": "Python 3"
    },
    "language_info": {
      "name": "python"
    }
  },
  "cells": [
    {
      "cell_type": "markdown",
      "metadata": {
        "id": "view-in-github",
        "colab_type": "text"
      },
      "source": [
        "<a href=\"https://colab.research.google.com/github/ricardodhuelsmann/python_bibliotecas/blob/main/Introdu%C3%A7%C3%A3o%20ao%20NumPy/3_Inicializando_diferentes_tipos_de_array.ipynb\" target=\"_parent\"><img src=\"https://colab.research.google.com/assets/colab-badge.svg\" alt=\"Open In Colab\"/></a>"
      ]
    },
    {
      "cell_type": "markdown",
      "metadata": {
        "id": "ROGeicbflrJy"
      },
      "source": [
        "#NumPy\n",
        "###Conceitos básicos para iniciar array pré-preenchidos"
      ]
    },
    {
      "cell_type": "code",
      "metadata": {
        "id": "ofWhMWJTldlc"
      },
      "source": [
        "import numpy as np"
      ],
      "execution_count": 1,
      "outputs": []
    },
    {
      "cell_type": "code",
      "metadata": {
        "colab": {
          "base_uri": "https://localhost:8080/"
        },
        "id": "YkD3zlVil80n",
        "outputId": "599a06a0-610d-4439-a526-35ccc7bd81d7"
      },
      "source": [
        "'''\n",
        "Inicilizando uma matriz com valores 'zero'.\n",
        "Usando a função 'zeros', passa-se a dimensão \n",
        "desejado, e o tipo de dados\n",
        "'''\n",
        "array_zeros = np.zeros(3, dtype='int32')\n",
        "print(array_zeros)"
      ],
      "execution_count": 10,
      "outputs": [
        {
          "output_type": "stream",
          "name": "stdout",
          "text": [
            "[0 0 0]\n"
          ]
        }
      ]
    },
    {
      "cell_type": "code",
      "metadata": {
        "colab": {
          "base_uri": "https://localhost:8080/"
        },
        "id": "QuHqDTR0mZzm",
        "outputId": "ebfa21d6-f59e-4e65-ce64-ab1d495b22f7"
      },
      "source": [
        "'''\n",
        "Criando uma matriz com três dimensões\n",
        "'''\n",
        "array_zeros_2 = np.zeros((2,3,4))\n",
        "print(array_zeros_2)"
      ],
      "execution_count": 11,
      "outputs": [
        {
          "output_type": "stream",
          "name": "stdout",
          "text": [
            "[[[0. 0. 0. 0.]\n",
            "  [0. 0. 0. 0.]\n",
            "  [0. 0. 0. 0.]]\n",
            "\n",
            " [[0. 0. 0. 0.]\n",
            "  [0. 0. 0. 0.]\n",
            "  [0. 0. 0. 0.]]]\n"
          ]
        }
      ]
    },
    {
      "cell_type": "code",
      "metadata": {
        "colab": {
          "base_uri": "https://localhost:8080/"
        },
        "id": "0jqw0iYQmm7E",
        "outputId": "709a2a0d-0912-4d18-cfec-01f5859bee39"
      },
      "source": [
        "'''\n",
        "É possível fazer algo muito semelhante, \n",
        "com valores 'um'\n",
        "'''\n",
        "array_um = np.ones((2,5))\n",
        "print(array_um)"
      ],
      "execution_count": 12,
      "outputs": [
        {
          "output_type": "stream",
          "name": "stdout",
          "text": [
            "[[1. 1. 1. 1. 1.]\n",
            " [1. 1. 1. 1. 1.]]\n"
          ]
        }
      ]
    },
    {
      "cell_type": "code",
      "metadata": {
        "colab": {
          "base_uri": "https://localhost:8080/"
        },
        "id": "uKe1jexgm4lj",
        "outputId": "322c1d84-1d56-4d00-9346-fbeff361f2e2"
      },
      "source": [
        "'''\n",
        "Podemos também espeficiar outro valor\n",
        "para preencher a matriz (função full, recebe a forma e o valor)\n",
        "'''\n",
        "array_especifico = np.full((3,3), 9)\n",
        "print(array_especifico)"
      ],
      "execution_count": 13,
      "outputs": [
        {
          "output_type": "stream",
          "name": "stdout",
          "text": [
            "[[9 9 9]\n",
            " [9 9 9]\n",
            " [9 9 9]]\n"
          ]
        }
      ]
    },
    {
      "cell_type": "code",
      "metadata": {
        "colab": {
          "base_uri": "https://localhost:8080/"
        },
        "id": "bBvgmUIVncYZ",
        "outputId": "886958e7-f5ea-4c4d-814a-73a93f07924f"
      },
      "source": [
        "'''\n",
        "Se o objetivo for criar uma matriz \n",
        "com valores aleatórios, é possível usar \n",
        "a função 'random.rand', passando a forma desejada\n",
        "'''\n",
        "array_aleatorio = np.random.rand(3,2,4)\n",
        "print(array_aleatorio)"
      ],
      "execution_count": 14,
      "outputs": [
        {
          "output_type": "stream",
          "name": "stdout",
          "text": [
            "[[[0.60506301 0.33640532 0.91670662 0.25867511]\n",
            "  [0.18985957 0.85071157 0.4464655  0.05015824]]\n",
            "\n",
            " [[0.31437216 0.4410844  0.3256406  0.86501876]\n",
            "  [0.56335691 0.10591484 0.3902151  0.52558224]]\n",
            "\n",
            " [[0.86385615 0.47053712 0.1559594  0.75612186]\n",
            "  [0.13362915 0.64568854 0.33283032 0.7761046 ]]]\n"
          ]
        }
      ]
    },
    {
      "cell_type": "code",
      "metadata": {
        "colab": {
          "base_uri": "https://localhost:8080/"
        },
        "id": "JCc_eSMioAfG",
        "outputId": "21ba0f72-4b3e-4651-90b0-4fcc1ed31278"
      },
      "source": [
        "'''\n",
        "Se o caso desejado forem números inteiros, \n",
        "também é possível, desta vez com 'random.randint',\n",
        "passando os limites desejados\n",
        "'''\n",
        "array_aleatorio_inteiro = np.random.randint(-100,100, size=(2,9,9))\n",
        "print(array_aleatorio_inteiro)"
      ],
      "execution_count": 21,
      "outputs": [
        {
          "output_type": "stream",
          "name": "stdout",
          "text": [
            "[[[ -84   83  -53    8  -21  -74   91   22   50]\n",
            "  [  99   -7  -41   92   52  -50   89  -61   36]\n",
            "  [ -79  -67   13  -11  -19   19  -91   32  -57]\n",
            "  [ -77   98   41  -24  -52  -61  -53   90   14]\n",
            "  [   0  -62    6   38   51   89  -62   24 -100]\n",
            "  [  48  -95  -35   51  -41  -91  -67  -47  -51]\n",
            "  [  22   26   27   89   77  -97   -1   -5   11]\n",
            "  [  32  -54   42  -18   70  -59  -98    0  -90]\n",
            "  [  -3  -66 -100  -45  -68  -27  -76   79  -99]]\n",
            "\n",
            " [[ -50   57   10   49   43   80   49   48  -48]\n",
            "  [  51   93   35  -25   58    2   52   99   -2]\n",
            "  [  59   35   75   22   98   48   37   43  -65]\n",
            "  [ -77   59  -15   31   13   62    7  -28  -29]\n",
            "  [ -99  -54  -87   51   74  -88   62   12  -60]\n",
            "  [ -73   35  -90   75   44  -14  -38   67  -15]\n",
            "  [  69  -93   27   75  -55  -82   47  -64  -67]\n",
            "  [  56   52  -41   22   60  -99   -2    1   -5]\n",
            "  [ -56   71   56   24  -13  -92   10   -9   47]]]\n"
          ]
        }
      ]
    },
    {
      "cell_type": "code",
      "metadata": {
        "colab": {
          "base_uri": "https://localhost:8080/"
        },
        "id": "P44Y-jPcoxt4",
        "outputId": "2eb0633a-6a84-456c-c7d5-aee458d52bb7"
      },
      "source": [
        "'''\n",
        "A matriz identidade também pode ser\n",
        "facilmente criada, através da função 'identity'\n",
        "'''\n",
        "array_identidade = np.identity(5)\n",
        "print(array_identidade)"
      ],
      "execution_count": 23,
      "outputs": [
        {
          "output_type": "stream",
          "name": "stdout",
          "text": [
            "[[1. 0. 0. 0. 0.]\n",
            " [0. 1. 0. 0. 0.]\n",
            " [0. 0. 1. 0. 0.]\n",
            " [0. 0. 0. 1. 0.]\n",
            " [0. 0. 0. 0. 1.]]\n"
          ]
        }
      ]
    },
    {
      "cell_type": "code",
      "metadata": {
        "colab": {
          "base_uri": "https://localhost:8080/"
        },
        "id": "D5-sezw_pfEw",
        "outputId": "a0e7ec07-3fb6-40f6-825c-287731577ef3"
      },
      "source": [
        "'''\n",
        "Quando o desejo for copiar um array,\n",
        "usa-se a função 'copy', porque uma simples declaração não cria cópia\n",
        "'''\n",
        "array_copia = np.copy(array_identidade)\n",
        "print(array_copia)"
      ],
      "execution_count": 28,
      "outputs": [
        {
          "output_type": "stream",
          "name": "stdout",
          "text": [
            "[[1. 0. 0. 0. 0.]\n",
            " [0. 1. 0. 0. 0.]\n",
            " [0. 0. 1. 0. 0.]\n",
            " [0. 0. 0. 1. 0.]\n",
            " [0. 0. 0. 0. 1.]]\n"
          ]
        }
      ]
    },
    {
      "cell_type": "code",
      "metadata": {
        "colab": {
          "base_uri": "https://localhost:8080/"
        },
        "id": "BMB1qk5rpyLW",
        "outputId": "1effebd2-1d99-44c2-f13e-34c95adcc710"
      },
      "source": [
        "'''\n",
        "Caso o array_copia seja alterado,\n",
        "o array original não é alterado\n",
        "'''\n",
        "array_copia[0] = -1\n",
        "print('Cópia: \\n', array_copia)\n",
        "print('Original: \\n', array_identidade)"
      ],
      "execution_count": 32,
      "outputs": [
        {
          "output_type": "stream",
          "name": "stdout",
          "text": [
            "Cópia: \n",
            " [[-1. -1. -1. -1. -1.]\n",
            " [ 0.  1.  0.  0.  0.]\n",
            " [ 0.  0.  1.  0.  0.]\n",
            " [ 0.  0.  0.  1.  0.]\n",
            " [ 0.  0.  0.  0.  1.]]\n",
            "Original: \n",
            " [[1. 0. 0. 0. 0.]\n",
            " [0. 1. 0. 0. 0.]\n",
            " [0. 0. 1. 0. 0.]\n",
            " [0. 0. 0. 1. 0.]\n",
            " [0. 0. 0. 0. 1.]]\n"
          ]
        }
      ]
    }
  ]
}