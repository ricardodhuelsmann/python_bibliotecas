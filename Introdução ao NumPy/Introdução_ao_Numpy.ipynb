{
  "nbformat": 4,
  "nbformat_minor": 0,
  "metadata": {
    "colab": {
      "name": "Introdução_ao_Numpy.ipynb",
      "provenance": [],
      "authorship_tag": "ABX9TyPjvXRUNK988pp9vCLmQz5/",
      "include_colab_link": true
    },
    "kernelspec": {
      "name": "python3",
      "display_name": "Python 3"
    },
    "language_info": {
      "name": "python"
    }
  },
  "cells": [
    {
      "cell_type": "markdown",
      "metadata": {
        "id": "view-in-github",
        "colab_type": "text"
      },
      "source": [
        "<a href=\"https://colab.research.google.com/github/ricardodhuelsmann/python_bibliotecas/blob/main/Introdu%C3%A7%C3%A3o%20ao%20NumPy/Introdu%C3%A7%C3%A3o_ao_Numpy.ipynb\" target=\"_parent\"><img src=\"https://colab.research.google.com/assets/colab-badge.svg\" alt=\"Open In Colab\"/></a>"
      ]
    },
    {
      "cell_type": "markdown",
      "metadata": {
        "id": "bSKfUvzeE1bH"
      },
      "source": [
        "\n",
        "#NumPy\n",
        "##Exemplos básicos de funcionamento da biblioteca."
      ]
    },
    {
      "cell_type": "code",
      "metadata": {
        "id": "A47R2NwdFD9H"
      },
      "source": [
        "''' \n",
        "Geralmente faz-se a importação da biblioteca como 'np' \n",
        "para facilitar a digitação dos códigos. \n",
        "É um padrão internacional entre os programadores\n",
        "'''\n",
        "import numpy as np"
      ],
      "execution_count": 27,
      "outputs": []
    },
    {
      "cell_type": "markdown",
      "metadata": {
        "id": "brQUjfbRGr7X"
      },
      "source": [
        "###Inicializando um *array*"
      ]
    },
    {
      "cell_type": "code",
      "metadata": {
        "colab": {
          "base_uri": "https://localhost:8080/"
        },
        "id": "JyWBeK9sGwFd",
        "outputId": "dfba0e14-087b-4261-f72b-551704758653"
      },
      "source": [
        "'''\n",
        "Para criar um array, basta instanciar o nome da variável,\n",
        "passando uma lista dentro de 'np.array()'\n",
        "'''\n",
        "array_1 = np.array([0, 1, 2])\n",
        "print(array_1)"
      ],
      "execution_count": 28,
      "outputs": [
        {
          "output_type": "stream",
          "name": "stdout",
          "text": [
            "[0 1 2]\n"
          ]
        }
      ]
    },
    {
      "cell_type": "code",
      "metadata": {
        "colab": {
          "base_uri": "https://localhost:8080/"
        },
        "id": "I-MjTH8DHR_e",
        "outputId": "61022d8f-74f0-4eb8-9fd9-479446e562d9"
      },
      "source": [
        "'''\n",
        "Para criar array de mais dimensões, o processo é semelhante,\n",
        "mantendo um colchete externo as listas\n",
        "'''\n",
        "array_2 = np.array([[2,3,4], [5,6,7]])\n",
        "print(array_2)"
      ],
      "execution_count": 29,
      "outputs": [
        {
          "output_type": "stream",
          "name": "stdout",
          "text": [
            "[[2 3 4]\n",
            " [5 6 7]]\n"
          ]
        }
      ]
    },
    {
      "cell_type": "code",
      "metadata": {
        "colab": {
          "base_uri": "https://localhost:8080/"
        },
        "id": "B-XctzrUIhxT",
        "outputId": "f8c12140-70d7-4e9a-8ecf-7eb2d9840d0a"
      },
      "source": [
        "'''\n",
        "É possível definir o tipo de dado a ser \n",
        "armazenado no array, passando em sua inicialização\n",
        "informações 'dtype'\n",
        "'''\n",
        "array_3 = np.array([[[0,0,0], [1,1,1]], [[2,2,2], [3,3,3]]], dtype='float64')\n",
        "print(array_3)"
      ],
      "execution_count": 36,
      "outputs": [
        {
          "output_type": "stream",
          "name": "stdout",
          "text": [
            "[[[0. 0. 0.]\n",
            "  [1. 1. 1.]]\n",
            "\n",
            " [[2. 2. 2.]\n",
            "  [3. 3. 3.]]]\n"
          ]
        }
      ]
    },
    {
      "cell_type": "markdown",
      "metadata": {
        "id": "EIUdNotfIbRO"
      },
      "source": [
        "##Obtendo informações dos *arrays*"
      ]
    },
    {
      "cell_type": "code",
      "metadata": {
        "colab": {
          "base_uri": "https://localhost:8080/"
        },
        "id": "cXATAb1DHrXm",
        "outputId": "52c6e3d1-eb9d-4532-b51a-60552d09a853"
      },
      "source": [
        "'''\n",
        "Para obter informações da dimensão do conjunto,\n",
        "usa-se a função 'ndim'\n",
        "'''\n",
        "print(f'A dimensão do primeiro array é {array_1.ndim}.')\n",
        "print(f'A dimensão do segundo array é {array_2.ndim}.')\n",
        "print(f'A dimensão do terceiro array é {array_3.ndim}.')"
      ],
      "execution_count": 37,
      "outputs": [
        {
          "output_type": "stream",
          "name": "stdout",
          "text": [
            "A dimensão do primeiro array é 1.\n",
            "A dimensão do segundo array é 2.\n",
            "A dimensão do terceiro array é 3.\n"
          ]
        }
      ]
    },
    {
      "cell_type": "code",
      "metadata": {
        "colab": {
          "base_uri": "https://localhost:8080/"
        },
        "id": "QmZCI3RkIElD",
        "outputId": "6fce3819-99e9-4a54-b8be-b78acb93ad6d"
      },
      "source": [
        "'''\n",
        "Para obter informações da forma do conjunto,\n",
        "usa-se a função 'shape'\n",
        "'''\n",
        "print(f'A forma do primeiro array é {array_1.shape}.')\n",
        "print(f'A forma do segundo array é {array_2.shape}.')\n",
        "print(f'A forma do terceiro array é {array_3.shape}.')"
      ],
      "execution_count": 38,
      "outputs": [
        {
          "output_type": "stream",
          "name": "stdout",
          "text": [
            "A forma do primeiro array é (3,).\n",
            "A forma do segundo array é (2, 3).\n",
            "A forma do terceiro array é (2, 2, 3).\n"
          ]
        }
      ]
    },
    {
      "cell_type": "code",
      "metadata": {
        "colab": {
          "base_uri": "https://localhost:8080/"
        },
        "id": "fypXcVXrJctY",
        "outputId": "6d8a8228-90b8-4839-e26d-9f56f9787765"
      },
      "source": [
        "'''\n",
        "Quando o objetivo é conhecer o tipo de dados\n",
        "armazenados no array, é possível usar o 'dtype'\n",
        "'''\n",
        "print(f'O tipo de dados do primeiro array é {array_1.dtype}.')\n",
        "print(f'O tipo de dados do segundo array é {array_2.dtype}.')\n",
        "print(f'O tipo de dados do terceiro array é {array_3.dtype}.')"
      ],
      "execution_count": 39,
      "outputs": [
        {
          "output_type": "stream",
          "name": "stdout",
          "text": [
            "O tipo de dados do primeiro array é int64.\n",
            "O tipo de dados do segundo array é int64.\n",
            "O tipo de dados do terceiro array é float64.\n"
          ]
        }
      ]
    },
    {
      "cell_type": "code",
      "metadata": {
        "colab": {
          "base_uri": "https://localhost:8080/"
        },
        "id": "rWMVONtwJ1gm",
        "outputId": "789ea1bc-25b6-4fde-c252-055c3de38966"
      },
      "source": [
        "'''\n",
        "Para conhecer o tamanho (quantidade de dados)\n",
        "do array, faz-se uso da função 'size'\n",
        "'''\n",
        "print(f'O tamanho do primeiro array é {array_1.size}.')\n",
        "print(f'O tamanho do segundo array é {array_2.size}.')\n",
        "print(f'O tamanho do terceiro array é {array_3.size}.')"
      ],
      "execution_count": 40,
      "outputs": [
        {
          "output_type": "stream",
          "name": "stdout",
          "text": [
            "O tamanho do primeiro array é 3.\n",
            "O tamanho do segundo array é 6.\n",
            "O tamanho do terceiro array é 12.\n"
          ]
        }
      ]
    },
    {
      "cell_type": "code",
      "metadata": {
        "colab": {
          "base_uri": "https://localhost:8080/"
        },
        "id": "RFcpd-wxKOmt",
        "outputId": "9d3f4096-133b-4b0e-d8f1-dc687674490e"
      },
      "source": [
        "'''\n",
        "Já para conhecer o tamanho (em bytes)\n",
        "de dados do array, faz-se uso da função 'itemsize'\n",
        "'''\n",
        "print(f'O tamanho do dado do primeiro array é {array_1.itemsize}.')\n",
        "print(f'O tamanho do dado do segundo array é {array_2.itemsize}.')\n",
        "print(f'O tamanho do dado do terceiro array é {array_3.itemsize}.')"
      ],
      "execution_count": 41,
      "outputs": [
        {
          "output_type": "stream",
          "name": "stdout",
          "text": [
            "O tamanho do dado do primeiro array é 8.\n",
            "O tamanho do dado do segundo array é 8.\n",
            "O tamanho do dado do terceiro array é 8.\n"
          ]
        }
      ]
    },
    {
      "cell_type": "code",
      "metadata": {
        "colab": {
          "base_uri": "https://localhost:8080/"
        },
        "id": "EOx4Bn3RK3OD",
        "outputId": "7bbcf8bf-7dfe-47c5-8066-78b11d59cce3"
      },
      "source": [
        "'''\n",
        "Por fim para conhecer o tamanho (em bytes)\n",
        "do array completo, usa-se da função 'nbytes'\n",
        "'''\n",
        "print(f'O tamanho dos dados do primeiro array é {array_1.nbytes}.')\n",
        "print(f'O tamanho dos dados do segundo array é {array_2.nbytes}.')\n",
        "print(f'O tamanho dos dados do terceiro array é {array_3.nbytes}.')"
      ],
      "execution_count": 42,
      "outputs": [
        {
          "output_type": "stream",
          "name": "stdout",
          "text": [
            "O tamanho dos dados do primeiro array é 24.\n",
            "O tamanho dos dados do segundo array é 48.\n",
            "O tamanho dos dados do terceiro array é 96.\n"
          ]
        }
      ]
    }
  ]
}