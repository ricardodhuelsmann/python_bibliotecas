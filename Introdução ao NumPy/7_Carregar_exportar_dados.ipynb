{
  "nbformat": 4,
  "nbformat_minor": 0,
  "metadata": {
    "colab": {
      "name": "7 - Carregar/exportar_dados.ipynb",
      "provenance": [],
      "collapsed_sections": [],
      "authorship_tag": "ABX9TyMGHMudHA3uFBsn8mtSuyVs",
      "include_colab_link": true
    },
    "kernelspec": {
      "name": "python3",
      "display_name": "Python 3"
    },
    "language_info": {
      "name": "python"
    }
  },
  "cells": [
    {
      "cell_type": "markdown",
      "metadata": {
        "id": "view-in-github",
        "colab_type": "text"
      },
      "source": [
        "<a href=\"https://colab.research.google.com/github/ricardodhuelsmann/python_bibliotecas/blob/main/Introdu%C3%A7%C3%A3o%20ao%20NumPy/7_Carregar_exportar_dados.ipynb\" target=\"_parent\"><img src=\"https://colab.research.google.com/assets/colab-badge.svg\" alt=\"Open In Colab\"/></a>"
      ]
    },
    {
      "cell_type": "markdown",
      "metadata": {
        "id": "3UkdTpsOZ4O-"
      },
      "source": [
        "#NumPy\n",
        "###Carregamento de dados de arquivos .txt e .csv"
      ]
    },
    {
      "cell_type": "code",
      "metadata": {
        "id": "tCH3c_2uZzaN"
      },
      "source": [
        "import numpy as np"
      ],
      "execution_count": 1,
      "outputs": []
    },
    {
      "cell_type": "code",
      "metadata": {
        "colab": {
          "base_uri": "https://localhost:8080/"
        },
        "id": "1El-K3xdaxee",
        "outputId": "ad6cfa36-bd0e-4fd7-e542-849780933035"
      },
      "source": [
        "'''\n",
        "Para carregar dados externos\n",
        "de arquivos como txt, usa-se a \n",
        "função 'genfromtext'\n",
        "'''\n",
        "dados_txt = np.genfromtxt('dados_txt.txt', delimiter=',')\n",
        "print(dados_txt)"
      ],
      "execution_count": 4,
      "outputs": [
        {
          "output_type": "stream",
          "name": "stdout",
          "text": [
            "[[ 0.  1.  2.  3.  4.  5.  6.]\n",
            " [ 7.  8.  9. 10. 11. 12. 13.]]\n"
          ]
        }
      ]
    },
    {
      "cell_type": "code",
      "metadata": {
        "colab": {
          "base_uri": "https://localhost:8080/"
        },
        "id": "il4kNT8VbSIQ",
        "outputId": "9c3fbb1a-a90c-44b2-bac3-d67cf6fdccee"
      },
      "source": [
        "'''\n",
        "Para importar dados em determinado\n",
        "tipo, usa-se 'astype'\n",
        "'''\n",
        "dados_txt = dados_txt.astype('int16')\n",
        "print(dados_txt)"
      ],
      "execution_count": 5,
      "outputs": [
        {
          "output_type": "stream",
          "name": "stdout",
          "text": [
            "[[ 0  1  2  3  4  5  6]\n",
            " [ 7  8  9 10 11 12 13]]\n"
          ]
        }
      ]
    },
    {
      "cell_type": "code",
      "metadata": {
        "colab": {
          "base_uri": "https://localhost:8080/"
        },
        "id": "_YTWfBG5bmsR",
        "outputId": "1a6a4f66-18de-44cc-fa76-4aaa39607515"
      },
      "source": [
        "'''\n",
        "Processo similar é usado para \n",
        "carregar dados de '.csv'\n",
        "'''\n",
        "dados_csv = np.genfromtxt('dados_csv.csv', delimiter=',').astype('int32') #Já convertendo diretamente os dados para tipo inteiro\n",
        "print(dados_csv)"
      ],
      "execution_count": 9,
      "outputs": [
        {
          "output_type": "stream",
          "name": "stdout",
          "text": [
            "[[ 0 -1 -2 -3 -4 -5 -6]\n",
            " [ 9 10 11 12 13 14 15]]\n"
          ]
        }
      ]
    },
    {
      "cell_type": "code",
      "metadata": {
        "colab": {
          "base_uri": "https://localhost:8080/"
        },
        "id": "sUw-r1eUcdFw",
        "outputId": "976152ef-005d-4f8a-cd3e-acc591da14a3"
      },
      "source": [
        "'''\n",
        "Para exportar determinados dados, faz-se\n",
        "uso da função 'savetxt'\n",
        "'''\n",
        "dados_finais = np.vstack([dados_txt, dados_csv])*2 #Exemplo arbitrário de novos dados ainda não salvos externamente\n",
        "print(dados_finais)\n",
        "np.savetxt('dados_finais.txt', dados_finais, fmt='%.i', delimiter=',') #fmt é formatar, no caso, para int\n",
        "np.savetxt('dados_finais.csv', dados_finais, fmt='%.i', delimiter=';') #outro exemplo, salvando em .csv com outro delimitador"
      ],
      "execution_count": 23,
      "outputs": [
        {
          "output_type": "stream",
          "name": "stdout",
          "text": [
            "[[  0   2   4   6   8  10  12]\n",
            " [ 14  16  18  20  22  24  26]\n",
            " [  0  -2  -4  -6  -8 -10 -12]\n",
            " [ 18  20  22  24  26  28  30]]\n"
          ]
        }
      ]
    }
  ]
}