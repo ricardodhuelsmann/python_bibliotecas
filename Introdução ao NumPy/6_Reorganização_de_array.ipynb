{
  "nbformat": 4,
  "nbformat_minor": 0,
  "metadata": {
    "colab": {
      "name": "6 - Reorganização_de_array.ipynb",
      "provenance": [],
      "authorship_tag": "ABX9TyNOypF6imUUUcOVx9JYWtQo",
      "include_colab_link": true
    },
    "kernelspec": {
      "name": "python3",
      "display_name": "Python 3"
    },
    "language_info": {
      "name": "python"
    }
  },
  "cells": [
    {
      "cell_type": "markdown",
      "metadata": {
        "id": "view-in-github",
        "colab_type": "text"
      },
      "source": [
        "<a href=\"https://colab.research.google.com/github/ricardodhuelsmann/python_bibliotecas/blob/main/Introdu%C3%A7%C3%A3o%20ao%20NumPy/6_Reorganiza%C3%A7%C3%A3o_de_array.ipynb\" target=\"_parent\"><img src=\"https://colab.research.google.com/assets/colab-badge.svg\" alt=\"Open In Colab\"/></a>"
      ]
    },
    {
      "cell_type": "markdown",
      "metadata": {
        "id": "v8jeIfbaWFI5"
      },
      "source": [
        "#NumPy\n",
        "###Alteração de forma, inserção de linhas e colunas"
      ]
    },
    {
      "cell_type": "code",
      "metadata": {
        "id": "6wom-3jXV_Zb"
      },
      "source": [
        "import numpy as np"
      ],
      "execution_count": 1,
      "outputs": []
    },
    {
      "cell_type": "code",
      "metadata": {
        "colab": {
          "base_uri": "https://localhost:8080/"
        },
        "id": "UMZx3UEtWa_p",
        "outputId": "10a6e514-9c9e-487a-9606-edc127ced1c2"
      },
      "source": [
        "'''\n",
        "É possível alterar a forma de \n",
        "determinado array com a função 'reshape'\n",
        "Obviamente, o número de dados deve ser respeitado\n",
        "'''\n",
        "array_1 = np.array([1,2,3,4,5,6,7,8])\n",
        "print(array_1)\n",
        "array_2 = array_1.reshape((2,4))\n",
        "print(array_2)\n",
        "array_3 = array_1.reshape((2,2,2))\n",
        "print(array_3)"
      ],
      "execution_count": 15,
      "outputs": [
        {
          "output_type": "stream",
          "name": "stdout",
          "text": [
            "[1 2 3 4 5 6 7 8]\n",
            "[[1 2 3 4]\n",
            " [5 6 7 8]]\n",
            "[[[1 2]\n",
            "  [3 4]]\n",
            "\n",
            " [[5 6]\n",
            "  [7 8]]]\n"
          ]
        }
      ]
    },
    {
      "cell_type": "code",
      "metadata": {
        "colab": {
          "base_uri": "https://localhost:8080/"
        },
        "id": "VJbArkn-XC_v",
        "outputId": "2d61a887-3133-4c57-f6a9-4f57acf51317"
      },
      "source": [
        "'''\n",
        "É possível unir arrays usando o \n",
        "empilhamento vertical ou horizontal\n",
        "'''\n",
        "array_4 = np.ones(8, dtype='int16')\n",
        "print('Array 1 = ', array_1)\n",
        "print('Array 4 = ',array_4)\n",
        "array_5 = np.vstack([array_1, array_4])\n",
        "print('Empilhamento vertical = \\n', array_5)\n",
        "array_6 = np.hstack([array_1, array_4])\n",
        "print('Empilhamento horizontal = \\n', array_6)"
      ],
      "execution_count": 21,
      "outputs": [
        {
          "output_type": "stream",
          "name": "stdout",
          "text": [
            "Array 1 =  [1 2 3 4 5 6 7 8]\n",
            "Array 4 =  [1 1 1 1 1 1 1 1]\n",
            "Empilhamento vertical = \n",
            " [[1 2 3 4 5 6 7 8]\n",
            " [1 1 1 1 1 1 1 1]]\n",
            "Empilhamento horizontal = \n",
            " [1 2 3 4 5 6 7 8 1 1 1 1 1 1 1 1]\n"
          ]
        }
      ]
    }
  ]
}