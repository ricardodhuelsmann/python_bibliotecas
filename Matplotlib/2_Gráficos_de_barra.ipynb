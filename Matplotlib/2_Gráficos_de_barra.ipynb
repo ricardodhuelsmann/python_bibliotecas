{
  "nbformat": 4,
  "nbformat_minor": 0,
  "metadata": {
    "colab": {
      "name": "2 - Gráficos de barra.ipynb",
      "provenance": [],
      "collapsed_sections": [],
      "authorship_tag": "ABX9TyMY7PCcaZW5ISOmOCjKsOjW",
      "include_colab_link": true
    },
    "kernelspec": {
      "name": "python3",
      "display_name": "Python 3"
    },
    "language_info": {
      "name": "python"
    }
  },
  "cells": [
    {
      "cell_type": "markdown",
      "metadata": {
        "id": "view-in-github",
        "colab_type": "text"
      },
      "source": [
        "<a href=\"https://colab.research.google.com/github/ricardodhuelsmann/python_bibliotecas/blob/main/Matplotlib/2_Gr%C3%A1ficos_de_barra.ipynb\" target=\"_parent\"><img src=\"https://colab.research.google.com/assets/colab-badge.svg\" alt=\"Open In Colab\"/></a>"
      ]
    },
    {
      "cell_type": "markdown",
      "source": [
        "#Matplotlib\n",
        "###Criando gráficos de barra simples"
      ],
      "metadata": {
        "id": "LdyBXm68eBvt"
      }
    },
    {
      "cell_type": "code",
      "execution_count": 1,
      "metadata": {
        "id": "nvu4wcMXd8Uc"
      },
      "outputs": [],
      "source": [
        "import matplotlib.pyplot as plt\n",
        "import numpy as np\n",
        "import pandas as pd"
      ]
    },
    {
      "cell_type": "code",
      "source": [
        "'''\n",
        "Gráficos de barra tem um eixo definindo as variáveis,\n",
        "e outro apresentando os dados quantitativos das mesmas\n",
        "'''\n",
        "\n",
        "variaveis = ['Frango', 'Ovos', 'Carne']\n",
        "dados = [100, 200, 150]\n",
        "\n",
        "plt.bar(variaveis, dados)\n",
        "plt.show()"
      ],
      "metadata": {
        "colab": {
          "base_uri": "https://localhost:8080/",
          "height": 265
        },
        "id": "1DtexxGoeQqC",
        "outputId": "427d77d3-d2cf-4bd3-87f0-28ac8ab84077"
      },
      "execution_count": 2,
      "outputs": [
        {
          "output_type": "display_data",
          "data": {
            "image/png": "[encoded data removed]",
            "text/plain": [
              "<Figure size 432x288 with 1 Axes>"
            ]
          },
          "metadata": {
            "needs_background": "light"
          }
        }
      ]
    },
    {
      "cell_type": "code",
      "source": [
        "'''\n",
        "Alterando a composição das barras\n",
        "'''\n",
        "barras = plt.bar(variaveis, dados, color=['red', 'green', 'cyan'], edgecolor=['white', 'black', 'blue'])\n",
        "\n",
        "barras[0].set_hatch('/')\n",
        "barras[1].set_hatch('o')\n",
        "barras[2].set_hatch('+')\n",
        "\n",
        "\n",
        "plt.show()"
      ],
      "metadata": {
        "id": "QtG55ctBfAM-",
        "colab": {
          "base_uri": "https://localhost:8080/",
          "height": 265
        },
        "outputId": "d2986774-cf2d-4c2c-fdcd-6358aef0977d"
      },
      "execution_count": 21,
      "outputs": [
        {
          "output_type": "display_data",
          "data": {
            "image/png": "[encoded data removed]",
            "text/plain": [
              "<Figure size 432x288 with 1 Axes>"
            ]
          },
          "metadata": {
            "needs_background": "light"
          }
        }
      ]
    },
    {
      "cell_type": "markdown",
      "source": [
        "###Adicionando duas séries de dados\n"
      ],
      "metadata": {
        "id": "8ialvf4TGJxV"
      }
    },
    {
      "cell_type": "code",
      "source": [
        "\n",
        "variaveis_2 = ['A', 'B', 'C', 'D']\n",
        "dados_1 = [95, 90, 98, 92]\n",
        "dados_2 = [79, 81, 62, 80]\n",
        "\n",
        "'''\n",
        "Se simplesmente criar dois gráficos de barra no mesmo\n",
        "modelo, o segundo a ser adicionado vai sobrepor o primeiro\n",
        "(pode ser uma alternativa interessante, quando desejado)\n",
        "'''\n",
        "plt.bar(variaveis_2, dados_1)\n",
        "plt.bar(variaveis_2, dados_2)\n",
        "\n",
        "plt.show()\n"
      ],
      "metadata": {
        "colab": {
          "base_uri": "https://localhost:8080/",
          "height": 265
        },
        "id": "Amiy0oAcBS68",
        "outputId": "65620522-0e45-4ef4-8964-c64aea8551e0"
      },
      "execution_count": 41,
      "outputs": [
        {
          "output_type": "display_data",
          "data": {
            "image/png": "[encoded data removed]",
            "text/plain": [
              "<Figure size 432x288 with 1 Axes>"
            ]
          },
          "metadata": {
            "needs_background": "light"
          }
        }
      ]
    },
    {
      "cell_type": "code",
      "source": [
        "'''\n",
        "Mas para resolver isso, colocando-os ao lado,\n",
        "define-se para cada um uma posição em 'x'\n",
        "'''\n",
        "\n",
        "variaveis_2 = ['A', 'B', 'C', 'D']\n",
        "dados_1 = [95, 90, 98, 92]\n",
        "dados_2 = [79, 81, 62, 80]\n",
        "\n",
        "\n",
        "\n",
        "largura = 0.3\n",
        "\n",
        "pos_x_1 = np.arange(len(dados_1))\n",
        "pos_x_2 = [x + largura for x in pos_x_1]\n",
        "\n",
        "plt.bar(pos_x_1, dados_1, width=largura, label='1')\n",
        "plt.bar(pos_x_2, dados_2, width=largura, label='2')\n",
        "\n",
        "plt.xticks([r + largura for r in range(len(dados_1))], variaveis_2)\n",
        "plt.ylabel('Recuperação (%)')\n",
        "plt.legend(loc=3)\n",
        "\n",
        "plt.show()"
      ],
      "metadata": {
        "colab": {
          "base_uri": "https://localhost:8080/",
          "height": 265
        },
        "id": "RCl8RmO9ChbN",
        "outputId": "c6e28f7d-863e-4c8d-96bd-3a062578f4c5"
      },
      "execution_count": 42,
      "outputs": [
        {
          "output_type": "display_data",
          "data": {
            "image/png": "[encoded data removed]",
            "text/plain": [
              "<Figure size 432x288 with 1 Axes>"
            ]
          },
          "metadata": {
            "needs_background": "light"
          }
        }
      ]
    },
    {
      "cell_type": "code",
      "source": [
        "'''\n",
        "Adicionando barra de erro para cada\n",
        "grupo de dados\n",
        "'''\n",
        "variaveis_2 = ['A', 'B', 'C', 'D']\n",
        "dados_1 = [95, 90, 98, 92]\n",
        "dados_2 = [79, 81, 62, 80]\n",
        "\n",
        "erro_1 = [10,8,4,3]\n",
        "erro_2 = [5,7,9,3]\n",
        "\n",
        "largura = 0.3\n",
        "\n",
        "pos_x_1 = np.arange(len(dados_1))\n",
        "pos_x_2 = [x + largura for x in pos_x_1]\n",
        "\n",
        "\n",
        "plt.bar(pos_x_1, dados_1, width=largura, label='Azul', yerr=erro_1, capsize=5)\n",
        "plt.bar(pos_x_2, dados_2, width=largura, label='Laranja', yerr=erro_2, capsize=5)\n",
        "\n",
        "\n",
        "plt.xticks([r + largura/2 for r in range(len(dados_1))], variaveis_2)\n",
        "plt.ylabel('Recuperação (%)')\n",
        "plt.legend(loc=3)\n",
        "\n",
        "plt.show()"
      ],
      "metadata": {
        "colab": {
          "base_uri": "https://localhost:8080/",
          "height": 265
        },
        "id": "Ut7xbxiOEAMF",
        "outputId": "ec2bd688-c465-44d0-f0c8-9a9af71a4111"
      },
      "execution_count": 45,
      "outputs": [
        {
          "output_type": "display_data",
          "data": {
            "image/png": "[encoded data removed]",
            "text/plain": [
              "<Figure size 432x288 with 1 Axes>"
            ]
          },
          "metadata": {
            "needs_background": "light"
          }
        }
      ]
    },
    {
      "cell_type": "markdown",
      "source": [
        "###Gráfico de barra empilhado"
      ],
      "metadata": {
        "id": "tsH_sxqhGOwt"
      }
    },
    {
      "cell_type": "code",
      "source": [
        "eixo_x = np.arange(5)\n",
        "\n",
        "verde = np.array([10, 15, 20, 25, 30], dtype='float64')\n",
        "azul = np.array([11, 10, 12, 20, 10], dtype='float64')\n",
        "vermelho = np.array([40, 30, 25, 10, 5], dtype='float64')\n",
        "amarelo = np.array([5, 10, 20, 50, 60], dtype='float64')\n",
        "\n",
        "largura_2 = 0.75\n",
        "legenda_eixo = ['A', 'B', 'C', 'D', 'E']\n",
        "\n",
        "plt.bar(eixo_x, verde, color='#5CFF33', edgecolor='white', width=largura_2)\n",
        "plt.bar(eixo_x, azul, bottom=verde, color='#5C9EF5', edgecolor='white', width=largura_2)\n",
        "plt.bar(eixo_x, vermelho, bottom=azul+verde, color='#FB4141', edgecolor='white', width=largura_2)\n",
        "plt.bar(eixo_x, amarelo, bottom=vermelho+azul+verde, color='#EBFB41', edgecolor='white', width=largura_2)\n",
        " \n",
        "plt.xticks(eixo_x, legenda_eixo)\n",
        "plt.xlabel(\"Grupos\")\n",
        "\n",
        "plt.show()"
      ],
      "metadata": {
        "colab": {
          "base_uri": "https://localhost:8080/",
          "height": 279
        },
        "id": "XgBpqUgwLPlP",
        "outputId": "0fb97de0-b701-46bd-b402-be66d4e0fe21"
      },
      "execution_count": 134,
      "outputs": [
        {
          "output_type": "display_data",
          "data": {
            "image/png": "[encoded data removed]",
            "text/plain": [
              "<Figure size 432x288 with 1 Axes>"
            ]
          },
          "metadata": {
            "needs_background": "light"
          }
        }
      ]
    },
    {
      "cell_type": "markdown",
      "source": [
        "###Gráfico de barra empilhado e normalizado"
      ],
      "metadata": {
        "id": "EwOO_k44MwEz"
      }
    },
    {
      "cell_type": "code",
      "source": [
        "'''\n",
        "O procedimento é igual ao anterior,\n",
        "com apenas a normalização dos dados\n",
        "'''\n",
        "\n",
        "verde = np.array([10, 15, 20, 25, 30], dtype='float64')\n",
        "azul = np.array([11, 10, 12, 20, 10], dtype='float64')\n",
        "vermelho = np.array([40, 30, 25, 10, 5], dtype='float64')\n",
        "amarelo = np.array([5, 10, 20, 50, 60], dtype='float64')\n",
        "\n",
        "\n",
        "verde_normalizado = np.copy(verde)\n",
        "azul_normalizado = np.copy(azul)\n",
        "vermelho_normalizado = np.copy(vermelho)\n",
        "amarelo_normalizado = np.copy(amarelo)\n",
        "\n",
        "dados_totais = np.vstack([verde, azul, vermelho, amarelo])\n",
        "#print(dados_totais)\n",
        "\n",
        "somas = np.sum(dados_totais, axis=0)\n",
        "#print(somas)\n",
        "\n",
        "for i in range(5):\n",
        "  verde_normalizado[i] = 100*verde_normalizado[i]/somas[i]\n",
        "  azul_normalizado[i] = 100*azul_normalizado[i]/somas[i]\n",
        "  vermelho_normalizado[i] = 100*vermelho_normalizado[i]/somas[i]\n",
        "  amarelo_normalizado[i] = 100*amarelo_normalizado[i]/somas[i]\n",
        "\n",
        "#print(dados_totais)\n",
        "#print(verde_normalizado)\n",
        "#print(azul_normalizado)\n",
        "#print(vermelho_normalizado)\n",
        "#print(amarelo_normalizado)\n",
        "\n",
        "\n",
        "\n",
        "largura_2 = 0.75\n",
        "legenda_eixo = ['A', 'B', 'C', 'D', 'E']\n",
        "\n",
        "plt.bar(eixo_x, verde_normalizado, color='#5CFF33', edgecolor='white', width=largura_2)\n",
        "plt.bar(eixo_x, azul_normalizado, bottom=verde_normalizado, color='#5C9EF5', edgecolor='white', width=largura_2)\n",
        "plt.bar(eixo_x, vermelho_normalizado, bottom=azul_normalizado+verde_normalizado, color='#FB4141', edgecolor='white', width=largura_2)\n",
        "plt.bar(eixo_x, amarelo_normalizado, bottom=vermelho_normalizado+azul_normalizado+verde_normalizado, color='#EBFB41', edgecolor='white', width=largura_2)\n",
        " \n",
        "plt.xticks(eixo_x, legenda_eixo)\n",
        "plt.xlabel(\"Grupos\")\n",
        "\n",
        "plt.show()\n",
        "  "
      ],
      "metadata": {
        "colab": {
          "base_uri": "https://localhost:8080/",
          "height": 279
        },
        "id": "gnUD_e0WMvkN",
        "outputId": "c349317e-999c-4b25-eb29-8fda038fcae3"
      },
      "execution_count": 135,
      "outputs": [
        {
          "output_type": "display_data",
          "data": {
            "image/png": "[encoded data removed]",
            "text/plain": [
              "<Figure size 432x288 with 1 Axes>"
            ]
          },
          "metadata": {
            "needs_background": "light"
          }
        }
      ]
    },
    {
      "cell_type": "markdown",
      "source": [
        "###Gráfico barra horizontal"
      ],
      "metadata": {
        "id": "YP1UDl7UWDdE"
      }
    },
    {
      "cell_type": "code",
      "source": [
        "'''\n",
        "A criação de gráficos horizontais\n",
        "segue o mesmo padrão, com uso da função 'barh'\n",
        "'''\n",
        "variaveis_horizontais = ['A', 'B', 'C', 'D']\n",
        "dados_horizontais = [5, 4, 6, 3]\n",
        "\n",
        "plt.barh(variaveis_horizontais, dados_horizontais)\n",
        "plt.show()"
      ],
      "metadata": {
        "colab": {
          "base_uri": "https://localhost:8080/",
          "height": 265
        },
        "id": "KstkUNiKXemw",
        "outputId": "827058af-66e9-4116-9e37-045c49c561b2"
      },
      "execution_count": 136,
      "outputs": [
        {
          "output_type": "display_data",
          "data": {
            "image/png": "[encoded data removed]",
            "text/plain": [
              "<Figure size 432x288 with 1 Axes>"
            ]
          },
          "metadata": {
            "needs_background": "light"
          }
        }
      ]
    },
    {
      "cell_type": "code",
      "source": [
        "'''\n",
        "Editando informações\n",
        "'''\n",
        "\n",
        "\n",
        "barras_horizontais = plt.barh(variaveis_horizontais, dados_horizontais, height=0.5, color=['red', 'green', 'cyan', 'yellow'], edgecolor=['brown', 'black', 'blue', 'orange'])\n",
        "\n",
        "plt.title('Barras horizontais', fontdict={'fontname': 'Helvetica', 'fontsize': 20})\n",
        "plt.xlabel('Eixo X', fontdict={'fontname': 'Helvetica', 'fontsize': 16})\n",
        "plt.ylabel('Eixo Y', fontdict={'fontname': 'Helvetica', 'fontsize': 16})\n",
        "\n",
        "plt.xticks([0, 2, 4, 6, 8])\n",
        "plt.xticks(fontsize=14, rotation=0)\n",
        "plt.yticks(fontsize=16)\n",
        "\n",
        "\n",
        "plt.show()"
      ],
      "metadata": {
        "colab": {
          "base_uri": "https://localhost:8080/",
          "height": 309
        },
        "id": "Ef4FB0AZamJB",
        "outputId": "6ce58c8e-5f33-4cf1-bf33-49ecd759b7f1"
      },
      "execution_count": 153,
      "outputs": [
        {
          "output_type": "display_data",
          "data": {
            "image/png": "[encoded data removed]",
            "text/plain": [
              "<Figure size 432x288 with 1 Axes>"
            ]
          },
          "metadata": {
            "needs_background": "light"
          }
        }
      ]
    }
  ]
}